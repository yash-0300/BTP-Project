{
  "nbformat": 4,
  "nbformat_minor": 0,
  "metadata": {
    "colab": {
      "provenance": [],
      "gpuType": "T4"
    },
    "kernelspec": {
      "name": "python3",
      "display_name": "Python 3"
    },
    "language_info": {
      "name": "python"
    },
    "accelerator": "GPU"
  },
  "cells": [
    {
      "cell_type": "markdown",
      "source": [
        "# Predicting Ground Motion Equation using Artificial Neural Networks"
      ],
      "metadata": {
        "id": "kIG4BtCa_Qb2"
      }
    },
    {
      "cell_type": "markdown",
      "source": [
        "This command installs the necessary Python libraries:\n",
        "\n",
        "1. Tensorflow: Used for building and training the Artificial Neural Network (ANN).\n",
        "\n",
        "2. Pandas: Used for loading, processing, and manipulating structured data (CSV files).\n",
        "\n",
        "3. Numpy: Provides numerical operations and array handling.\n",
        "\n",
        "4. Matplotlib: Used for visualizing data and model performance.\n",
        "\n",
        "5. Scikit-learn: Provides tools for preprocessing data, splitting datasets, and evaluating models."
      ],
      "metadata": {
        "id": "1SSseOMNCd_j"
      }
    },
    {
      "cell_type": "code",
      "execution_count": null,
      "metadata": {
        "colab": {
          "base_uri": "https://localhost:8080/"
        },
        "id": "yBahe7JzmGYw",
        "outputId": "427340a1-346b-4af6-8354-d2c4c2c2ce53",
        "collapsed": true
      },
      "outputs": [
        {
          "output_type": "stream",
          "name": "stdout",
          "text": [
            "Requirement already satisfied: tensorflow in /usr/local/lib/python3.11/dist-packages (2.18.0)\n",
            "Requirement already satisfied: pandas in /usr/local/lib/python3.11/dist-packages (2.2.2)\n",
            "Requirement already satisfied: numpy in /usr/local/lib/python3.11/dist-packages (2.0.2)\n",
            "Requirement already satisfied: matplotlib in /usr/local/lib/python3.11/dist-packages (3.10.0)\n",
            "Requirement already satisfied: scikit-learn in /usr/local/lib/python3.11/dist-packages (1.6.1)\n",
            "Requirement already satisfied: absl-py>=1.0.0 in /usr/local/lib/python3.11/dist-packages (from tensorflow) (1.4.0)\n",
            "Requirement already satisfied: astunparse>=1.6.0 in /usr/local/lib/python3.11/dist-packages (from tensorflow) (1.6.3)\n",
            "Requirement already satisfied: flatbuffers>=24.3.25 in /usr/local/lib/python3.11/dist-packages (from tensorflow) (25.2.10)\n",
            "Requirement already satisfied: gast!=0.5.0,!=0.5.1,!=0.5.2,>=0.2.1 in /usr/local/lib/python3.11/dist-packages (from tensorflow) (0.6.0)\n",
            "Requirement already satisfied: google-pasta>=0.1.1 in /usr/local/lib/python3.11/dist-packages (from tensorflow) (0.2.0)\n",
            "Requirement already satisfied: libclang>=13.0.0 in /usr/local/lib/python3.11/dist-packages (from tensorflow) (18.1.1)\n",
            "Requirement already satisfied: opt-einsum>=2.3.2 in /usr/local/lib/python3.11/dist-packages (from tensorflow) (3.4.0)\n",
            "Requirement already satisfied: packaging in /usr/local/lib/python3.11/dist-packages (from tensorflow) (24.2)\n",
            "Requirement already satisfied: protobuf!=4.21.0,!=4.21.1,!=4.21.2,!=4.21.3,!=4.21.4,!=4.21.5,<6.0.0dev,>=3.20.3 in /usr/local/lib/python3.11/dist-packages (from tensorflow) (5.29.4)\n",
            "Requirement already satisfied: requests<3,>=2.21.0 in /usr/local/lib/python3.11/dist-packages (from tensorflow) (2.32.3)\n",
            "Requirement already satisfied: setuptools in /usr/local/lib/python3.11/dist-packages (from tensorflow) (75.1.0)\n",
            "Requirement already satisfied: six>=1.12.0 in /usr/local/lib/python3.11/dist-packages (from tensorflow) (1.17.0)\n",
            "Requirement already satisfied: termcolor>=1.1.0 in /usr/local/lib/python3.11/dist-packages (from tensorflow) (2.5.0)\n",
            "Requirement already satisfied: typing-extensions>=3.6.6 in /usr/local/lib/python3.11/dist-packages (from tensorflow) (4.12.2)\n",
            "Requirement already satisfied: wrapt>=1.11.0 in /usr/local/lib/python3.11/dist-packages (from tensorflow) (1.17.2)\n",
            "Requirement already satisfied: grpcio<2.0,>=1.24.3 in /usr/local/lib/python3.11/dist-packages (from tensorflow) (1.71.0)\n",
            "Requirement already satisfied: tensorboard<2.19,>=2.18 in /usr/local/lib/python3.11/dist-packages (from tensorflow) (2.18.0)\n",
            "Requirement already satisfied: keras>=3.5.0 in /usr/local/lib/python3.11/dist-packages (from tensorflow) (3.8.0)\n",
            "Requirement already satisfied: h5py>=3.11.0 in /usr/local/lib/python3.11/dist-packages (from tensorflow) (3.13.0)\n",
            "Requirement already satisfied: ml-dtypes<0.5.0,>=0.4.0 in /usr/local/lib/python3.11/dist-packages (from tensorflow) (0.4.1)\n",
            "Requirement already satisfied: tensorflow-io-gcs-filesystem>=0.23.1 in /usr/local/lib/python3.11/dist-packages (from tensorflow) (0.37.1)\n",
            "Requirement already satisfied: python-dateutil>=2.8.2 in /usr/local/lib/python3.11/dist-packages (from pandas) (2.8.2)\n",
            "Requirement already satisfied: pytz>=2020.1 in /usr/local/lib/python3.11/dist-packages (from pandas) (2025.1)\n",
            "Requirement already satisfied: tzdata>=2022.7 in /usr/local/lib/python3.11/dist-packages (from pandas) (2025.1)\n",
            "Requirement already satisfied: contourpy>=1.0.1 in /usr/local/lib/python3.11/dist-packages (from matplotlib) (1.3.1)\n",
            "Requirement already satisfied: cycler>=0.10 in /usr/local/lib/python3.11/dist-packages (from matplotlib) (0.12.1)\n",
            "Requirement already satisfied: fonttools>=4.22.0 in /usr/local/lib/python3.11/dist-packages (from matplotlib) (4.56.0)\n",
            "Requirement already satisfied: kiwisolver>=1.3.1 in /usr/local/lib/python3.11/dist-packages (from matplotlib) (1.4.8)\n",
            "Requirement already satisfied: pillow>=8 in /usr/local/lib/python3.11/dist-packages (from matplotlib) (11.1.0)\n",
            "Requirement already satisfied: pyparsing>=2.3.1 in /usr/local/lib/python3.11/dist-packages (from matplotlib) (3.2.1)\n",
            "Requirement already satisfied: scipy>=1.6.0 in /usr/local/lib/python3.11/dist-packages (from scikit-learn) (1.14.1)\n",
            "Requirement already satisfied: joblib>=1.2.0 in /usr/local/lib/python3.11/dist-packages (from scikit-learn) (1.4.2)\n",
            "Requirement already satisfied: threadpoolctl>=3.1.0 in /usr/local/lib/python3.11/dist-packages (from scikit-learn) (3.6.0)\n",
            "Requirement already satisfied: wheel<1.0,>=0.23.0 in /usr/local/lib/python3.11/dist-packages (from astunparse>=1.6.0->tensorflow) (0.45.1)\n",
            "Requirement already satisfied: rich in /usr/local/lib/python3.11/dist-packages (from keras>=3.5.0->tensorflow) (13.9.4)\n",
            "Requirement already satisfied: namex in /usr/local/lib/python3.11/dist-packages (from keras>=3.5.0->tensorflow) (0.0.8)\n",
            "Requirement already satisfied: optree in /usr/local/lib/python3.11/dist-packages (from keras>=3.5.0->tensorflow) (0.14.1)\n",
            "Requirement already satisfied: charset-normalizer<4,>=2 in /usr/local/lib/python3.11/dist-packages (from requests<3,>=2.21.0->tensorflow) (3.4.1)\n",
            "Requirement already satisfied: idna<4,>=2.5 in /usr/local/lib/python3.11/dist-packages (from requests<3,>=2.21.0->tensorflow) (3.10)\n",
            "Requirement already satisfied: urllib3<3,>=1.21.1 in /usr/local/lib/python3.11/dist-packages (from requests<3,>=2.21.0->tensorflow) (2.3.0)\n",
            "Requirement already satisfied: certifi>=2017.4.17 in /usr/local/lib/python3.11/dist-packages (from requests<3,>=2.21.0->tensorflow) (2025.1.31)\n",
            "Requirement already satisfied: markdown>=2.6.8 in /usr/local/lib/python3.11/dist-packages (from tensorboard<2.19,>=2.18->tensorflow) (3.7)\n",
            "Requirement already satisfied: tensorboard-data-server<0.8.0,>=0.7.0 in /usr/local/lib/python3.11/dist-packages (from tensorboard<2.19,>=2.18->tensorflow) (0.7.2)\n",
            "Requirement already satisfied: werkzeug>=1.0.1 in /usr/local/lib/python3.11/dist-packages (from tensorboard<2.19,>=2.18->tensorflow) (3.1.3)\n",
            "Requirement already satisfied: MarkupSafe>=2.1.1 in /usr/local/lib/python3.11/dist-packages (from werkzeug>=1.0.1->tensorboard<2.19,>=2.18->tensorflow) (3.0.2)\n",
            "Requirement already satisfied: markdown-it-py>=2.2.0 in /usr/local/lib/python3.11/dist-packages (from rich->keras>=3.5.0->tensorflow) (3.0.0)\n",
            "Requirement already satisfied: pygments<3.0.0,>=2.13.0 in /usr/local/lib/python3.11/dist-packages (from rich->keras>=3.5.0->tensorflow) (2.18.0)\n",
            "Requirement already satisfied: mdurl~=0.1 in /usr/local/lib/python3.11/dist-packages (from markdown-it-py>=2.2.0->rich->keras>=3.5.0->tensorflow) (0.1.2)\n"
          ]
        }
      ],
      "source": [
        "# Install required libraries (if not already installed)\n",
        "!pip install tensorflow pandas numpy matplotlib scikit-learn"
      ]
    },
    {
      "cell_type": "code",
      "source": [
        "import pandas as pd\n",
        "import numpy as np\n",
        "import tensorflow as tf\n",
        "from tensorflow import keras\n",
        "from sklearn.model_selection import train_test_split\n",
        "from sklearn.preprocessing import StandardScaler\n",
        "from sklearn.metrics import mean_absolute_error, mean_squared_error, r2_score\n",
        "import matplotlib.pyplot as plt"
      ],
      "metadata": {
        "id": "FKgzdcocmmIq"
      },
      "execution_count": null,
      "outputs": []
    },
    {
      "cell_type": "markdown",
      "source": [
        "1. **Load the Data**: The CSV file is read using pd.read_csv() with specific arguments to skip the first 8 rows (which are assumed to be descriptions or metadata). The columns \"Stream\" and \"Time\" are treated as strings, while the \"Vertical\", \"Horizontal 1\", and \"Horizontal 2\" columns are treated as floats.\n",
        "\n",
        "2. **Rename Columns**: The columns \"Horizontal 1\" and \"Horizontal 2\" are renamed to \"Horizontal_1\" and \"Horizontal_2\" to standardize the column names.\n",
        "\n",
        "3. **Drop Missing Values**: Any rows with missing data are dropped using df.dropna() to ensure clean data for model training."
      ],
      "metadata": {
        "id": "jJ3qHjSIC0yq"
      }
    },
    {
      "cell_type": "code",
      "source": [
        "# Load and Clean CSV File\n",
        "file_path = \"/content/btp_data.csv\""
      ],
      "metadata": {
        "id": "rO_2VovcmqfG"
      },
      "execution_count": null,
      "outputs": []
    },
    {
      "cell_type": "code",
      "source": [
        "def clean_csv(file_path):\n",
        "    df = pd.read_csv(file_path, skiprows=8, dtype={\"Stream\": str, \"Time\": str, \"Vertical\": float,\n",
        "                                       \"Horizontal 1\": float, \"Horizontal 2\": float})\n",
        "\n",
        "    # Rename headers\n",
        "    df = df.rename(columns={\"Horizontal 1\": \"Horizontal_1\", \"Horizontal 2\": \"Horizontal_2\"})\n",
        "\n",
        "    # Drop rows with missing values\n",
        "    df = df.dropna()\n",
        "\n",
        "    return df"
      ],
      "metadata": {
        "id": "NTW5iumrmyhy"
      },
      "execution_count": null,
      "outputs": []
    },
    {
      "cell_type": "code",
      "source": [
        "df = clean_csv(file_path)"
      ],
      "metadata": {
        "id": "ga1OzMCZm3Tc"
      },
      "execution_count": null,
      "outputs": []
    },
    {
      "cell_type": "code",
      "source": [
        "df.head(5)"
      ],
      "metadata": {
        "colab": {
          "base_uri": "https://localhost:8080/",
          "height": 206
        },
        "id": "GliyFiEmnaYA",
        "outputId": "31e9427e-9712-4847-e7dd-2678a20b7289"
      },
      "execution_count": null,
      "outputs": [
        {
          "output_type": "execute_result",
          "data": {
            "text/plain": [
              "          Stream                     Time  Vertical  Horizontal_1  \\\n",
              "0  NZ_HWHS_21_HN  2024-11-01T18:46:16.105 -0.000006      0.000028   \n",
              "1  NZ_HWHS_21_HN  2024-11-01T18:46:16.110 -0.000021      0.000013   \n",
              "2  NZ_HWHS_21_HN  2024-11-01T18:46:16.115 -0.000119     -0.000173   \n",
              "3  NZ_HWHS_21_HN  2024-11-01T18:46:16.120 -0.000220     -0.000310   \n",
              "4  NZ_HWHS_21_HN  2024-11-01T18:46:16.125 -0.000148     -0.000137   \n",
              "\n",
              "   Horizontal_2  \n",
              "0     -0.000119  \n",
              "1     -0.000185  \n",
              "2      0.000078  \n",
              "3      0.000121  \n",
              "4     -0.000085  "
            ],
            "text/html": [
              "\n",
              "  <div id=\"df-f725a350-f77b-4cea-bbc6-a3341b8a4af5\" class=\"colab-df-container\">\n",
              "    <div>\n",
              "<style scoped>\n",
              "    .dataframe tbody tr th:only-of-type {\n",
              "        vertical-align: middle;\n",
              "    }\n",
              "\n",
              "    .dataframe tbody tr th {\n",
              "        vertical-align: top;\n",
              "    }\n",
              "\n",
              "    .dataframe thead th {\n",
              "        text-align: right;\n",
              "    }\n",
              "</style>\n",
              "<table border=\"1\" class=\"dataframe\">\n",
              "  <thead>\n",
              "    <tr style=\"text-align: right;\">\n",
              "      <th></th>\n",
              "      <th>Stream</th>\n",
              "      <th>Time</th>\n",
              "      <th>Vertical</th>\n",
              "      <th>Horizontal_1</th>\n",
              "      <th>Horizontal_2</th>\n",
              "    </tr>\n",
              "  </thead>\n",
              "  <tbody>\n",
              "    <tr>\n",
              "      <th>0</th>\n",
              "      <td>NZ_HWHS_21_HN</td>\n",
              "      <td>2024-11-01T18:46:16.105</td>\n",
              "      <td>-0.000006</td>\n",
              "      <td>0.000028</td>\n",
              "      <td>-0.000119</td>\n",
              "    </tr>\n",
              "    <tr>\n",
              "      <th>1</th>\n",
              "      <td>NZ_HWHS_21_HN</td>\n",
              "      <td>2024-11-01T18:46:16.110</td>\n",
              "      <td>-0.000021</td>\n",
              "      <td>0.000013</td>\n",
              "      <td>-0.000185</td>\n",
              "    </tr>\n",
              "    <tr>\n",
              "      <th>2</th>\n",
              "      <td>NZ_HWHS_21_HN</td>\n",
              "      <td>2024-11-01T18:46:16.115</td>\n",
              "      <td>-0.000119</td>\n",
              "      <td>-0.000173</td>\n",
              "      <td>0.000078</td>\n",
              "    </tr>\n",
              "    <tr>\n",
              "      <th>3</th>\n",
              "      <td>NZ_HWHS_21_HN</td>\n",
              "      <td>2024-11-01T18:46:16.120</td>\n",
              "      <td>-0.000220</td>\n",
              "      <td>-0.000310</td>\n",
              "      <td>0.000121</td>\n",
              "    </tr>\n",
              "    <tr>\n",
              "      <th>4</th>\n",
              "      <td>NZ_HWHS_21_HN</td>\n",
              "      <td>2024-11-01T18:46:16.125</td>\n",
              "      <td>-0.000148</td>\n",
              "      <td>-0.000137</td>\n",
              "      <td>-0.000085</td>\n",
              "    </tr>\n",
              "  </tbody>\n",
              "</table>\n",
              "</div>\n",
              "    <div class=\"colab-df-buttons\">\n",
              "\n",
              "  <div class=\"colab-df-container\">\n",
              "    <button class=\"colab-df-convert\" onclick=\"convertToInteractive('df-f725a350-f77b-4cea-bbc6-a3341b8a4af5')\"\n",
              "            title=\"Convert this dataframe to an interactive table.\"\n",
              "            style=\"display:none;\">\n",
              "\n",
              "  <svg xmlns=\"http://www.w3.org/2000/svg\" height=\"24px\" viewBox=\"0 -960 960 960\">\n",
              "    <path d=\"M120-120v-720h720v720H120Zm60-500h600v-160H180v160Zm220 220h160v-160H400v160Zm0 220h160v-160H400v160ZM180-400h160v-160H180v160Zm440 0h160v-160H620v160ZM180-180h160v-160H180v160Zm440 0h160v-160H620v160Z\"/>\n",
              "  </svg>\n",
              "    </button>\n",
              "\n",
              "  <style>\n",
              "    .colab-df-container {\n",
              "      display:flex;\n",
              "      gap: 12px;\n",
              "    }\n",
              "\n",
              "    .colab-df-convert {\n",
              "      background-color: #E8F0FE;\n",
              "      border: none;\n",
              "      border-radius: 50%;\n",
              "      cursor: pointer;\n",
              "      display: none;\n",
              "      fill: #1967D2;\n",
              "      height: 32px;\n",
              "      padding: 0 0 0 0;\n",
              "      width: 32px;\n",
              "    }\n",
              "\n",
              "    .colab-df-convert:hover {\n",
              "      background-color: #E2EBFA;\n",
              "      box-shadow: 0px 1px 2px rgba(60, 64, 67, 0.3), 0px 1px 3px 1px rgba(60, 64, 67, 0.15);\n",
              "      fill: #174EA6;\n",
              "    }\n",
              "\n",
              "    .colab-df-buttons div {\n",
              "      margin-bottom: 4px;\n",
              "    }\n",
              "\n",
              "    [theme=dark] .colab-df-convert {\n",
              "      background-color: #3B4455;\n",
              "      fill: #D2E3FC;\n",
              "    }\n",
              "\n",
              "    [theme=dark] .colab-df-convert:hover {\n",
              "      background-color: #434B5C;\n",
              "      box-shadow: 0px 1px 3px 1px rgba(0, 0, 0, 0.15);\n",
              "      filter: drop-shadow(0px 1px 2px rgba(0, 0, 0, 0.3));\n",
              "      fill: #FFFFFF;\n",
              "    }\n",
              "  </style>\n",
              "\n",
              "    <script>\n",
              "      const buttonEl =\n",
              "        document.querySelector('#df-f725a350-f77b-4cea-bbc6-a3341b8a4af5 button.colab-df-convert');\n",
              "      buttonEl.style.display =\n",
              "        google.colab.kernel.accessAllowed ? 'block' : 'none';\n",
              "\n",
              "      async function convertToInteractive(key) {\n",
              "        const element = document.querySelector('#df-f725a350-f77b-4cea-bbc6-a3341b8a4af5');\n",
              "        const dataTable =\n",
              "          await google.colab.kernel.invokeFunction('convertToInteractive',\n",
              "                                                    [key], {});\n",
              "        if (!dataTable) return;\n",
              "\n",
              "        const docLinkHtml = 'Like what you see? Visit the ' +\n",
              "          '<a target=\"_blank\" href=https://colab.research.google.com/notebooks/data_table.ipynb>data table notebook</a>'\n",
              "          + ' to learn more about interactive tables.';\n",
              "        element.innerHTML = '';\n",
              "        dataTable['output_type'] = 'display_data';\n",
              "        await google.colab.output.renderOutput(dataTable, element);\n",
              "        const docLink = document.createElement('div');\n",
              "        docLink.innerHTML = docLinkHtml;\n",
              "        element.appendChild(docLink);\n",
              "      }\n",
              "    </script>\n",
              "  </div>\n",
              "\n",
              "\n",
              "<div id=\"df-c25a74a7-2aea-47f8-9eda-2d00a7eadc3d\">\n",
              "  <button class=\"colab-df-quickchart\" onclick=\"quickchart('df-c25a74a7-2aea-47f8-9eda-2d00a7eadc3d')\"\n",
              "            title=\"Suggest charts\"\n",
              "            style=\"display:none;\">\n",
              "\n",
              "<svg xmlns=\"http://www.w3.org/2000/svg\" height=\"24px\"viewBox=\"0 0 24 24\"\n",
              "     width=\"24px\">\n",
              "    <g>\n",
              "        <path d=\"M19 3H5c-1.1 0-2 .9-2 2v14c0 1.1.9 2 2 2h14c1.1 0 2-.9 2-2V5c0-1.1-.9-2-2-2zM9 17H7v-7h2v7zm4 0h-2V7h2v10zm4 0h-2v-4h2v4z\"/>\n",
              "    </g>\n",
              "</svg>\n",
              "  </button>\n",
              "\n",
              "<style>\n",
              "  .colab-df-quickchart {\n",
              "      --bg-color: #E8F0FE;\n",
              "      --fill-color: #1967D2;\n",
              "      --hover-bg-color: #E2EBFA;\n",
              "      --hover-fill-color: #174EA6;\n",
              "      --disabled-fill-color: #AAA;\n",
              "      --disabled-bg-color: #DDD;\n",
              "  }\n",
              "\n",
              "  [theme=dark] .colab-df-quickchart {\n",
              "      --bg-color: #3B4455;\n",
              "      --fill-color: #D2E3FC;\n",
              "      --hover-bg-color: #434B5C;\n",
              "      --hover-fill-color: #FFFFFF;\n",
              "      --disabled-bg-color: #3B4455;\n",
              "      --disabled-fill-color: #666;\n",
              "  }\n",
              "\n",
              "  .colab-df-quickchart {\n",
              "    background-color: var(--bg-color);\n",
              "    border: none;\n",
              "    border-radius: 50%;\n",
              "    cursor: pointer;\n",
              "    display: none;\n",
              "    fill: var(--fill-color);\n",
              "    height: 32px;\n",
              "    padding: 0;\n",
              "    width: 32px;\n",
              "  }\n",
              "\n",
              "  .colab-df-quickchart:hover {\n",
              "    background-color: var(--hover-bg-color);\n",
              "    box-shadow: 0 1px 2px rgba(60, 64, 67, 0.3), 0 1px 3px 1px rgba(60, 64, 67, 0.15);\n",
              "    fill: var(--button-hover-fill-color);\n",
              "  }\n",
              "\n",
              "  .colab-df-quickchart-complete:disabled,\n",
              "  .colab-df-quickchart-complete:disabled:hover {\n",
              "    background-color: var(--disabled-bg-color);\n",
              "    fill: var(--disabled-fill-color);\n",
              "    box-shadow: none;\n",
              "  }\n",
              "\n",
              "  .colab-df-spinner {\n",
              "    border: 2px solid var(--fill-color);\n",
              "    border-color: transparent;\n",
              "    border-bottom-color: var(--fill-color);\n",
              "    animation:\n",
              "      spin 1s steps(1) infinite;\n",
              "  }\n",
              "\n",
              "  @keyframes spin {\n",
              "    0% {\n",
              "      border-color: transparent;\n",
              "      border-bottom-color: var(--fill-color);\n",
              "      border-left-color: var(--fill-color);\n",
              "    }\n",
              "    20% {\n",
              "      border-color: transparent;\n",
              "      border-left-color: var(--fill-color);\n",
              "      border-top-color: var(--fill-color);\n",
              "    }\n",
              "    30% {\n",
              "      border-color: transparent;\n",
              "      border-left-color: var(--fill-color);\n",
              "      border-top-color: var(--fill-color);\n",
              "      border-right-color: var(--fill-color);\n",
              "    }\n",
              "    40% {\n",
              "      border-color: transparent;\n",
              "      border-right-color: var(--fill-color);\n",
              "      border-top-color: var(--fill-color);\n",
              "    }\n",
              "    60% {\n",
              "      border-color: transparent;\n",
              "      border-right-color: var(--fill-color);\n",
              "    }\n",
              "    80% {\n",
              "      border-color: transparent;\n",
              "      border-right-color: var(--fill-color);\n",
              "      border-bottom-color: var(--fill-color);\n",
              "    }\n",
              "    90% {\n",
              "      border-color: transparent;\n",
              "      border-bottom-color: var(--fill-color);\n",
              "    }\n",
              "  }\n",
              "</style>\n",
              "\n",
              "  <script>\n",
              "    async function quickchart(key) {\n",
              "      const quickchartButtonEl =\n",
              "        document.querySelector('#' + key + ' button');\n",
              "      quickchartButtonEl.disabled = true;  // To prevent multiple clicks.\n",
              "      quickchartButtonEl.classList.add('colab-df-spinner');\n",
              "      try {\n",
              "        const charts = await google.colab.kernel.invokeFunction(\n",
              "            'suggestCharts', [key], {});\n",
              "      } catch (error) {\n",
              "        console.error('Error during call to suggestCharts:', error);\n",
              "      }\n",
              "      quickchartButtonEl.classList.remove('colab-df-spinner');\n",
              "      quickchartButtonEl.classList.add('colab-df-quickchart-complete');\n",
              "    }\n",
              "    (() => {\n",
              "      let quickchartButtonEl =\n",
              "        document.querySelector('#df-c25a74a7-2aea-47f8-9eda-2d00a7eadc3d button');\n",
              "      quickchartButtonEl.style.display =\n",
              "        google.colab.kernel.accessAllowed ? 'block' : 'none';\n",
              "    })();\n",
              "  </script>\n",
              "</div>\n",
              "\n",
              "    </div>\n",
              "  </div>\n"
            ],
            "application/vnd.google.colaboratory.intrinsic+json": {
              "type": "dataframe",
              "variable_name": "df",
              "summary": "{\n  \"name\": \"df\",\n  \"rows\": 36000,\n  \"fields\": [\n    {\n      \"column\": \"Stream\",\n      \"properties\": {\n        \"dtype\": \"category\",\n        \"num_unique_values\": 1,\n        \"samples\": [\n          \"NZ_HWHS_21_HN\"\n        ],\n        \"semantic_type\": \"\",\n        \"description\": \"\"\n      }\n    },\n    {\n      \"column\": \"Time\",\n      \"properties\": {\n        \"dtype\": \"object\",\n        \"num_unique_values\": 36000,\n        \"samples\": [\n          \"2024-11-01T18:47:38.410\"\n        ],\n        \"semantic_type\": \"\",\n        \"description\": \"\"\n      }\n    },\n    {\n      \"column\": \"Vertical\",\n      \"properties\": {\n        \"dtype\": \"number\",\n        \"std\": 0.00031622019756886863,\n        \"min\": -0.002705251,\n        \"max\": 0.002591643,\n        \"num_unique_values\": 23332,\n        \"samples\": [\n          7.41e-06\n        ],\n        \"semantic_type\": \"\",\n        \"description\": \"\"\n      }\n    },\n    {\n      \"column\": \"Horizontal_1\",\n      \"properties\": {\n        \"dtype\": \"number\",\n        \"std\": 0.0003985472041146564,\n        \"min\": -0.005219284,\n        \"max\": 0.004431846,\n        \"num_unique_values\": 24812,\n        \"samples\": [\n          0.00015609\n        ],\n        \"semantic_type\": \"\",\n        \"description\": \"\"\n      }\n    },\n    {\n      \"column\": \"Horizontal_2\",\n      \"properties\": {\n        \"dtype\": \"number\",\n        \"std\": 0.0004001337125462482,\n        \"min\": -0.003986531,\n        \"max\": 0.005060021,\n        \"num_unique_values\": 24434,\n        \"samples\": [\n          0.000148429\n        ],\n        \"semantic_type\": \"\",\n        \"description\": \"\"\n      }\n    }\n  ]\n}"
            }
          },
          "metadata": {},
          "execution_count": 16
        }
      ]
    },
    {
      "cell_type": "markdown",
      "source": [
        "**PGA (Peak Ground Acceleration)** : This takes the absolute values of the \"Vertical,\" \"Horizontal_1,\" and \"Horizontal_2\" columns for each row and finds the maximum among them.\n",
        "\n",
        "**PGV (Peak Ground Velocity)**: This calculates the absolute difference between consecutive rows (time steps) for each column and then finds the maximum value across \"Vertical,\" \"Horizontal_1,\" and \"Horizontal_2\""
      ],
      "metadata": {
        "id": "IlzhzBcDDKDG"
      }
    },
    {
      "cell_type": "code",
      "source": [
        "# Compute PGA & PGV (Assuming they are the max absolute values)\n",
        "df['PGA'] = df[['Vertical', 'Horizontal_1', 'Horizontal_2']].abs().max(axis=1)\n",
        "df['PGV'] = df[['Vertical', 'Horizontal_1', 'Horizontal_2']].diff().abs().max(axis=1)"
      ],
      "metadata": {
        "id": "5IiMVXeP2ZDB"
      },
      "execution_count": null,
      "outputs": []
    },
    {
      "cell_type": "code",
      "source": [
        "# Drop NaN values from PGV calculation\n",
        "df = df.dropna()"
      ],
      "metadata": {
        "id": "dbvdke5121j1"
      },
      "execution_count": null,
      "outputs": []
    },
    {
      "cell_type": "markdown",
      "source": [
        "**Feature Selection**: Only Vertical is used as input (X).\n",
        "\n",
        "**Target Variables**:\n",
        "\n",
        "1. y_pga → Predicting Peak Ground Acceleration (PGA).\n",
        "\n",
        "2. y_pgv → Predicting Peak Ground Velocity (PGV).\n",
        "\n",
        "We aim to build two separate models, one for each target."
      ],
      "metadata": {
        "id": "0bn02OP-DolY"
      }
    },
    {
      "cell_type": "code",
      "source": [
        "# Define Features & Target Variables\n",
        "X = df[['Vertical']]  # Only 'Vertical' as input\n",
        "y_pga = df[['PGA']]  # Target: PGA\n",
        "y_pgv = df[['PGV']]  # Target: PGV"
      ],
      "metadata": {
        "id": "YS8S9Qt63A4M"
      },
      "execution_count": null,
      "outputs": []
    },
    {
      "cell_type": "code",
      "source": [
        "df.head(5)"
      ],
      "metadata": {
        "colab": {
          "base_uri": "https://localhost:8080/",
          "height": 206
        },
        "id": "FS5CoEZF2Y_g",
        "outputId": "36053177-e44e-42e3-eaf9-9233e8192e15"
      },
      "execution_count": null,
      "outputs": [
        {
          "output_type": "execute_result",
          "data": {
            "text/plain": [
              "          Stream                     Time  Vertical  Horizontal_1  \\\n",
              "1  NZ_HWHS_21_HN  2024-11-01T18:46:16.110 -0.000021      0.000013   \n",
              "2  NZ_HWHS_21_HN  2024-11-01T18:46:16.115 -0.000119     -0.000173   \n",
              "3  NZ_HWHS_21_HN  2024-11-01T18:46:16.120 -0.000220     -0.000310   \n",
              "4  NZ_HWHS_21_HN  2024-11-01T18:46:16.125 -0.000148     -0.000137   \n",
              "5  NZ_HWHS_21_HN  2024-11-01T18:46:16.130 -0.000177      0.000094   \n",
              "\n",
              "   Horizontal_2       PGA       PGV  \n",
              "1 -1.846890e-04  0.000185  0.000066  \n",
              "2  7.850000e-05  0.000173  0.000263  \n",
              "3  1.208320e-04  0.000310  0.000137  \n",
              "4 -8.500000e-05  0.000148  0.000206  \n",
              "5  2.530000e-07  0.000177  0.000231  "
            ],
            "text/html": [
              "\n",
              "  <div id=\"df-4033b2b9-1d01-4288-8bae-b80c3de42272\" class=\"colab-df-container\">\n",
              "    <div>\n",
              "<style scoped>\n",
              "    .dataframe tbody tr th:only-of-type {\n",
              "        vertical-align: middle;\n",
              "    }\n",
              "\n",
              "    .dataframe tbody tr th {\n",
              "        vertical-align: top;\n",
              "    }\n",
              "\n",
              "    .dataframe thead th {\n",
              "        text-align: right;\n",
              "    }\n",
              "</style>\n",
              "<table border=\"1\" class=\"dataframe\">\n",
              "  <thead>\n",
              "    <tr style=\"text-align: right;\">\n",
              "      <th></th>\n",
              "      <th>Stream</th>\n",
              "      <th>Time</th>\n",
              "      <th>Vertical</th>\n",
              "      <th>Horizontal_1</th>\n",
              "      <th>Horizontal_2</th>\n",
              "      <th>PGA</th>\n",
              "      <th>PGV</th>\n",
              "    </tr>\n",
              "  </thead>\n",
              "  <tbody>\n",
              "    <tr>\n",
              "      <th>1</th>\n",
              "      <td>NZ_HWHS_21_HN</td>\n",
              "      <td>2024-11-01T18:46:16.110</td>\n",
              "      <td>-0.000021</td>\n",
              "      <td>0.000013</td>\n",
              "      <td>-1.846890e-04</td>\n",
              "      <td>0.000185</td>\n",
              "      <td>0.000066</td>\n",
              "    </tr>\n",
              "    <tr>\n",
              "      <th>2</th>\n",
              "      <td>NZ_HWHS_21_HN</td>\n",
              "      <td>2024-11-01T18:46:16.115</td>\n",
              "      <td>-0.000119</td>\n",
              "      <td>-0.000173</td>\n",
              "      <td>7.850000e-05</td>\n",
              "      <td>0.000173</td>\n",
              "      <td>0.000263</td>\n",
              "    </tr>\n",
              "    <tr>\n",
              "      <th>3</th>\n",
              "      <td>NZ_HWHS_21_HN</td>\n",
              "      <td>2024-11-01T18:46:16.120</td>\n",
              "      <td>-0.000220</td>\n",
              "      <td>-0.000310</td>\n",
              "      <td>1.208320e-04</td>\n",
              "      <td>0.000310</td>\n",
              "      <td>0.000137</td>\n",
              "    </tr>\n",
              "    <tr>\n",
              "      <th>4</th>\n",
              "      <td>NZ_HWHS_21_HN</td>\n",
              "      <td>2024-11-01T18:46:16.125</td>\n",
              "      <td>-0.000148</td>\n",
              "      <td>-0.000137</td>\n",
              "      <td>-8.500000e-05</td>\n",
              "      <td>0.000148</td>\n",
              "      <td>0.000206</td>\n",
              "    </tr>\n",
              "    <tr>\n",
              "      <th>5</th>\n",
              "      <td>NZ_HWHS_21_HN</td>\n",
              "      <td>2024-11-01T18:46:16.130</td>\n",
              "      <td>-0.000177</td>\n",
              "      <td>0.000094</td>\n",
              "      <td>2.530000e-07</td>\n",
              "      <td>0.000177</td>\n",
              "      <td>0.000231</td>\n",
              "    </tr>\n",
              "  </tbody>\n",
              "</table>\n",
              "</div>\n",
              "    <div class=\"colab-df-buttons\">\n",
              "\n",
              "  <div class=\"colab-df-container\">\n",
              "    <button class=\"colab-df-convert\" onclick=\"convertToInteractive('df-4033b2b9-1d01-4288-8bae-b80c3de42272')\"\n",
              "            title=\"Convert this dataframe to an interactive table.\"\n",
              "            style=\"display:none;\">\n",
              "\n",
              "  <svg xmlns=\"http://www.w3.org/2000/svg\" height=\"24px\" viewBox=\"0 -960 960 960\">\n",
              "    <path d=\"M120-120v-720h720v720H120Zm60-500h600v-160H180v160Zm220 220h160v-160H400v160Zm0 220h160v-160H400v160ZM180-400h160v-160H180v160Zm440 0h160v-160H620v160ZM180-180h160v-160H180v160Zm440 0h160v-160H620v160Z\"/>\n",
              "  </svg>\n",
              "    </button>\n",
              "\n",
              "  <style>\n",
              "    .colab-df-container {\n",
              "      display:flex;\n",
              "      gap: 12px;\n",
              "    }\n",
              "\n",
              "    .colab-df-convert {\n",
              "      background-color: #E8F0FE;\n",
              "      border: none;\n",
              "      border-radius: 50%;\n",
              "      cursor: pointer;\n",
              "      display: none;\n",
              "      fill: #1967D2;\n",
              "      height: 32px;\n",
              "      padding: 0 0 0 0;\n",
              "      width: 32px;\n",
              "    }\n",
              "\n",
              "    .colab-df-convert:hover {\n",
              "      background-color: #E2EBFA;\n",
              "      box-shadow: 0px 1px 2px rgba(60, 64, 67, 0.3), 0px 1px 3px 1px rgba(60, 64, 67, 0.15);\n",
              "      fill: #174EA6;\n",
              "    }\n",
              "\n",
              "    .colab-df-buttons div {\n",
              "      margin-bottom: 4px;\n",
              "    }\n",
              "\n",
              "    [theme=dark] .colab-df-convert {\n",
              "      background-color: #3B4455;\n",
              "      fill: #D2E3FC;\n",
              "    }\n",
              "\n",
              "    [theme=dark] .colab-df-convert:hover {\n",
              "      background-color: #434B5C;\n",
              "      box-shadow: 0px 1px 3px 1px rgba(0, 0, 0, 0.15);\n",
              "      filter: drop-shadow(0px 1px 2px rgba(0, 0, 0, 0.3));\n",
              "      fill: #FFFFFF;\n",
              "    }\n",
              "  </style>\n",
              "\n",
              "    <script>\n",
              "      const buttonEl =\n",
              "        document.querySelector('#df-4033b2b9-1d01-4288-8bae-b80c3de42272 button.colab-df-convert');\n",
              "      buttonEl.style.display =\n",
              "        google.colab.kernel.accessAllowed ? 'block' : 'none';\n",
              "\n",
              "      async function convertToInteractive(key) {\n",
              "        const element = document.querySelector('#df-4033b2b9-1d01-4288-8bae-b80c3de42272');\n",
              "        const dataTable =\n",
              "          await google.colab.kernel.invokeFunction('convertToInteractive',\n",
              "                                                    [key], {});\n",
              "        if (!dataTable) return;\n",
              "\n",
              "        const docLinkHtml = 'Like what you see? Visit the ' +\n",
              "          '<a target=\"_blank\" href=https://colab.research.google.com/notebooks/data_table.ipynb>data table notebook</a>'\n",
              "          + ' to learn more about interactive tables.';\n",
              "        element.innerHTML = '';\n",
              "        dataTable['output_type'] = 'display_data';\n",
              "        await google.colab.output.renderOutput(dataTable, element);\n",
              "        const docLink = document.createElement('div');\n",
              "        docLink.innerHTML = docLinkHtml;\n",
              "        element.appendChild(docLink);\n",
              "      }\n",
              "    </script>\n",
              "  </div>\n",
              "\n",
              "\n",
              "<div id=\"df-394a3804-079a-4d25-9568-60f255657f14\">\n",
              "  <button class=\"colab-df-quickchart\" onclick=\"quickchart('df-394a3804-079a-4d25-9568-60f255657f14')\"\n",
              "            title=\"Suggest charts\"\n",
              "            style=\"display:none;\">\n",
              "\n",
              "<svg xmlns=\"http://www.w3.org/2000/svg\" height=\"24px\"viewBox=\"0 0 24 24\"\n",
              "     width=\"24px\">\n",
              "    <g>\n",
              "        <path d=\"M19 3H5c-1.1 0-2 .9-2 2v14c0 1.1.9 2 2 2h14c1.1 0 2-.9 2-2V5c0-1.1-.9-2-2-2zM9 17H7v-7h2v7zm4 0h-2V7h2v10zm4 0h-2v-4h2v4z\"/>\n",
              "    </g>\n",
              "</svg>\n",
              "  </button>\n",
              "\n",
              "<style>\n",
              "  .colab-df-quickchart {\n",
              "      --bg-color: #E8F0FE;\n",
              "      --fill-color: #1967D2;\n",
              "      --hover-bg-color: #E2EBFA;\n",
              "      --hover-fill-color: #174EA6;\n",
              "      --disabled-fill-color: #AAA;\n",
              "      --disabled-bg-color: #DDD;\n",
              "  }\n",
              "\n",
              "  [theme=dark] .colab-df-quickchart {\n",
              "      --bg-color: #3B4455;\n",
              "      --fill-color: #D2E3FC;\n",
              "      --hover-bg-color: #434B5C;\n",
              "      --hover-fill-color: #FFFFFF;\n",
              "      --disabled-bg-color: #3B4455;\n",
              "      --disabled-fill-color: #666;\n",
              "  }\n",
              "\n",
              "  .colab-df-quickchart {\n",
              "    background-color: var(--bg-color);\n",
              "    border: none;\n",
              "    border-radius: 50%;\n",
              "    cursor: pointer;\n",
              "    display: none;\n",
              "    fill: var(--fill-color);\n",
              "    height: 32px;\n",
              "    padding: 0;\n",
              "    width: 32px;\n",
              "  }\n",
              "\n",
              "  .colab-df-quickchart:hover {\n",
              "    background-color: var(--hover-bg-color);\n",
              "    box-shadow: 0 1px 2px rgba(60, 64, 67, 0.3), 0 1px 3px 1px rgba(60, 64, 67, 0.15);\n",
              "    fill: var(--button-hover-fill-color);\n",
              "  }\n",
              "\n",
              "  .colab-df-quickchart-complete:disabled,\n",
              "  .colab-df-quickchart-complete:disabled:hover {\n",
              "    background-color: var(--disabled-bg-color);\n",
              "    fill: var(--disabled-fill-color);\n",
              "    box-shadow: none;\n",
              "  }\n",
              "\n",
              "  .colab-df-spinner {\n",
              "    border: 2px solid var(--fill-color);\n",
              "    border-color: transparent;\n",
              "    border-bottom-color: var(--fill-color);\n",
              "    animation:\n",
              "      spin 1s steps(1) infinite;\n",
              "  }\n",
              "\n",
              "  @keyframes spin {\n",
              "    0% {\n",
              "      border-color: transparent;\n",
              "      border-bottom-color: var(--fill-color);\n",
              "      border-left-color: var(--fill-color);\n",
              "    }\n",
              "    20% {\n",
              "      border-color: transparent;\n",
              "      border-left-color: var(--fill-color);\n",
              "      border-top-color: var(--fill-color);\n",
              "    }\n",
              "    30% {\n",
              "      border-color: transparent;\n",
              "      border-left-color: var(--fill-color);\n",
              "      border-top-color: var(--fill-color);\n",
              "      border-right-color: var(--fill-color);\n",
              "    }\n",
              "    40% {\n",
              "      border-color: transparent;\n",
              "      border-right-color: var(--fill-color);\n",
              "      border-top-color: var(--fill-color);\n",
              "    }\n",
              "    60% {\n",
              "      border-color: transparent;\n",
              "      border-right-color: var(--fill-color);\n",
              "    }\n",
              "    80% {\n",
              "      border-color: transparent;\n",
              "      border-right-color: var(--fill-color);\n",
              "      border-bottom-color: var(--fill-color);\n",
              "    }\n",
              "    90% {\n",
              "      border-color: transparent;\n",
              "      border-bottom-color: var(--fill-color);\n",
              "    }\n",
              "  }\n",
              "</style>\n",
              "\n",
              "  <script>\n",
              "    async function quickchart(key) {\n",
              "      const quickchartButtonEl =\n",
              "        document.querySelector('#' + key + ' button');\n",
              "      quickchartButtonEl.disabled = true;  // To prevent multiple clicks.\n",
              "      quickchartButtonEl.classList.add('colab-df-spinner');\n",
              "      try {\n",
              "        const charts = await google.colab.kernel.invokeFunction(\n",
              "            'suggestCharts', [key], {});\n",
              "      } catch (error) {\n",
              "        console.error('Error during call to suggestCharts:', error);\n",
              "      }\n",
              "      quickchartButtonEl.classList.remove('colab-df-spinner');\n",
              "      quickchartButtonEl.classList.add('colab-df-quickchart-complete');\n",
              "    }\n",
              "    (() => {\n",
              "      let quickchartButtonEl =\n",
              "        document.querySelector('#df-394a3804-079a-4d25-9568-60f255657f14 button');\n",
              "      quickchartButtonEl.style.display =\n",
              "        google.colab.kernel.accessAllowed ? 'block' : 'none';\n",
              "    })();\n",
              "  </script>\n",
              "</div>\n",
              "\n",
              "    </div>\n",
              "  </div>\n"
            ],
            "application/vnd.google.colaboratory.intrinsic+json": {
              "type": "dataframe",
              "variable_name": "df",
              "repr_error": "0"
            }
          },
          "metadata": {},
          "execution_count": 20
        }
      ]
    },
    {
      "cell_type": "markdown",
      "source": [
        "Splitting Data:\n",
        "\n",
        "1. X_train, X_test: Training and testing sets for input (Vertical).\n",
        "\n",
        "2. y_train_pga, y_test_pga: Training and testing sets for PGA.\n",
        "\n",
        "3. y_train_pgv, y_test_pgv: Training and testing sets for PGV.\n",
        "\n",
        "Why _ in second split:\n",
        "Since X_train and X_test remain the same for both models, _ avoids redundancy.\n",
        "\n",
        "Test Size: 20% of the data is used for testing.\n",
        "\n",
        "Random Seed: Ensures reproducibility."
      ],
      "metadata": {
        "id": "NaEYnzbwD5ln"
      }
    },
    {
      "cell_type": "code",
      "source": [
        "# Train-Test Split (80% Train, 20% Test)\n",
        "X_train, X_test, y_train_pga, y_test_pga = train_test_split(X, y_pga, test_size=0.2, random_state=42)\n",
        "_, _, y_train_pgv, y_test_pgv = train_test_split(X, y_pgv, test_size=0.2, random_state=42)"
      ],
      "metadata": {
        "id": "HfjxGY0Q2Y9D"
      },
      "execution_count": null,
      "outputs": []
    },
    {
      "cell_type": "code",
      "source": [
        "# Normalize the Features\n",
        "scaler = StandardScaler()\n",
        "X_train_scaled = scaler.fit_transform(X_train)\n",
        "X_test_scaled = scaler.transform(X_test)"
      ],
      "metadata": {
        "id": "wgmzCsis2Y6C"
      },
      "execution_count": null,
      "outputs": []
    },
    {
      "cell_type": "code",
      "source": [
        "# Save the Scaler for Future Use\n",
        "np.save('/content/scaler_mean.npy', scaler.mean_)\n",
        "np.save('/content/scaler_var.npy', scaler.var_)"
      ],
      "metadata": {
        "id": "17SVkHJI2Y3U"
      },
      "execution_count": null,
      "outputs": []
    },
    {
      "cell_type": "markdown",
      "source": [
        "Function **build_ann()**: Creates an Artificial Neural Network (ANN) model.\n",
        "\n",
        "**Layers**:\n",
        "\n",
        "1. Input Layer: Takes one feature (Vertical).\n",
        "\n",
        "2. Hidden Layers: 64 neurons (ReLU activation), 32 neurons (ReLU activation), 16 neurons (ReLU activation)\n",
        "\n",
        "3. Output Layer: 1 neuron (predicts PGA or PGV).\n",
        "\n",
        "**Optimizer**: Adam (adaptive learning rate).\n",
        "\n",
        "**Metric**: Mean Absolute Error (mae) to evaluate prediction accuracy."
      ],
      "metadata": {
        "id": "LbSCLLMpEPpA"
      }
    },
    {
      "cell_type": "code",
      "source": [
        "# Define ANN Model Function\n",
        "def build_ann():\n",
        "    model = keras.Sequential([\n",
        "        keras.layers.Dense(64, activation='relu', input_shape=(1,)),\n",
        "        keras.layers.Dense(32, activation='relu'),\n",
        "        keras.layers.Dense(16, activation='relu'),\n",
        "        keras.layers.Dense(1)  # Output Layer (Single Prediction)\n",
        "    ])\n",
        "    model.compile(optimizer='adam', loss='mse', metrics=['mae'])\n",
        "    return model"
      ],
      "metadata": {
        "id": "mHkS2Qpw2Y0r"
      },
      "execution_count": null,
      "outputs": []
    },
    {
      "cell_type": "code",
      "source": [
        "# Train Model for PGA Prediction\n",
        "model_pga = build_ann()\n",
        "history_pga = model_pga.fit(X_train_scaled, y_train_pga, epochs=50, batch_size=8, validation_data=(X_test_scaled, y_test_pga))\n",
        "model_pga.save(\"/content/pga_model.h5\")"
      ],
      "metadata": {
        "colab": {
          "base_uri": "https://localhost:8080/"
        },
        "id": "WdS2Lqzv2Yx2",
        "outputId": "b577a76f-e1af-470f-bc8c-f17331bd0c0b"
      },
      "execution_count": null,
      "outputs": [
        {
          "output_type": "stream",
          "name": "stderr",
          "text": [
            "/usr/local/lib/python3.11/dist-packages/keras/src/layers/core/dense.py:87: UserWarning: Do not pass an `input_shape`/`input_dim` argument to a layer. When using Sequential models, prefer using an `Input(shape)` object as the first layer in the model instead.\n",
            "  super().__init__(activity_regularizer=activity_regularizer, **kwargs)\n"
          ]
        },
        {
          "output_type": "stream",
          "name": "stdout",
          "text": [
            "Epoch 1/50\n",
            "\u001b[1m3600/3600\u001b[0m \u001b[32m━━━━━━━━━━━━━━━━━━━━\u001b[0m\u001b[37m\u001b[0m \u001b[1m14s\u001b[0m 3ms/step - loss: 6.4636e-05 - mae: 0.0023 - val_loss: 4.1566e-07 - val_mae: 4.3510e-04\n",
            "Epoch 2/50\n",
            "\u001b[1m3600/3600\u001b[0m \u001b[32m━━━━━━━━━━━━━━━━━━━━\u001b[0m\u001b[37m\u001b[0m \u001b[1m10s\u001b[0m 3ms/step - loss: 3.1626e-06 - mae: 6.1802e-04 - val_loss: 1.2456e-07 - val_mae: 1.7406e-04\n",
            "Epoch 3/50\n",
            "\u001b[1m3600/3600\u001b[0m \u001b[32m━━━━━━━━━━━━━━━━━━━━\u001b[0m\u001b[37m\u001b[0m \u001b[1m12s\u001b[0m 3ms/step - loss: 1.2722e-07 - mae: 2.2969e-04 - val_loss: 1.0421e-07 - val_mae: 1.9355e-04\n",
            "Epoch 4/50\n",
            "\u001b[1m3600/3600\u001b[0m \u001b[32m━━━━━━━━━━━━━━━━━━━━\u001b[0m\u001b[37m\u001b[0m \u001b[1m19s\u001b[0m 3ms/step - loss: 1.3689e-07 - mae: 2.4194e-04 - val_loss: 1.5948e-07 - val_mae: 2.4167e-04\n",
            "Epoch 5/50\n",
            "\u001b[1m3600/3600\u001b[0m \u001b[32m━━━━━━━━━━━━━━━━━━━━\u001b[0m\u001b[37m\u001b[0m \u001b[1m21s\u001b[0m 3ms/step - loss: 1.2897e-07 - mae: 2.3442e-04 - val_loss: 1.0153e-07 - val_mae: 1.8906e-04\n",
            "Epoch 6/50\n",
            "\u001b[1m3600/3600\u001b[0m \u001b[32m━━━━━━━━━━━━━━━━━━━━\u001b[0m\u001b[37m\u001b[0m \u001b[1m20s\u001b[0m 3ms/step - loss: 1.3493e-07 - mae: 2.4012e-04 - val_loss: 1.1618e-07 - val_mae: 1.5913e-04\n",
            "Epoch 7/50\n",
            "\u001b[1m3600/3600\u001b[0m \u001b[32m━━━━━━━━━━━━━━━━━━━━\u001b[0m\u001b[37m\u001b[0m \u001b[1m20s\u001b[0m 3ms/step - loss: 1.3150e-07 - mae: 2.3895e-04 - val_loss: 1.2581e-07 - val_mae: 1.6907e-04\n",
            "Epoch 8/50\n",
            "\u001b[1m3600/3600\u001b[0m \u001b[32m━━━━━━━━━━━━━━━━━━━━\u001b[0m\u001b[37m\u001b[0m \u001b[1m11s\u001b[0m 3ms/step - loss: 1.2465e-07 - mae: 2.3468e-04 - val_loss: 1.1234e-07 - val_mae: 1.6214e-04\n",
            "Epoch 9/50\n",
            "\u001b[1m3600/3600\u001b[0m \u001b[32m━━━━━━━━━━━━━━━━━━━━\u001b[0m\u001b[37m\u001b[0m \u001b[1m19s\u001b[0m 3ms/step - loss: 1.3168e-07 - mae: 2.3642e-04 - val_loss: 1.4293e-07 - val_mae: 2.0461e-04\n",
            "Epoch 10/50\n",
            "\u001b[1m3600/3600\u001b[0m \u001b[32m━━━━━━━━━━━━━━━━━━━━\u001b[0m\u001b[37m\u001b[0m \u001b[1m10s\u001b[0m 3ms/step - loss: 1.3699e-07 - mae: 2.4309e-04 - val_loss: 1.7876e-07 - val_mae: 3.7168e-04\n",
            "Epoch 11/50\n",
            "\u001b[1m3600/3600\u001b[0m \u001b[32m━━━━━━━━━━━━━━━━━━━━\u001b[0m\u001b[37m\u001b[0m \u001b[1m10s\u001b[0m 3ms/step - loss: 1.2860e-07 - mae: 2.3801e-04 - val_loss: 1.3150e-07 - val_mae: 2.9164e-04\n",
            "Epoch 12/50\n",
            "\u001b[1m3600/3600\u001b[0m \u001b[32m━━━━━━━━━━━━━━━━━━━━\u001b[0m\u001b[37m\u001b[0m \u001b[1m14s\u001b[0m 4ms/step - loss: 1.3316e-07 - mae: 2.4035e-04 - val_loss: 1.7985e-07 - val_mae: 2.8146e-04\n",
            "Epoch 13/50\n",
            "\u001b[1m3600/3600\u001b[0m \u001b[32m━━━━━━━━━━━━━━━━━━━━\u001b[0m\u001b[37m\u001b[0m \u001b[1m11s\u001b[0m 3ms/step - loss: 1.3175e-07 - mae: 2.4104e-04 - val_loss: 1.2186e-07 - val_mae: 2.7211e-04\n",
            "Epoch 14/50\n",
            "\u001b[1m3600/3600\u001b[0m \u001b[32m━━━━━━━━━━━━━━━━━━━━\u001b[0m\u001b[37m\u001b[0m \u001b[1m17s\u001b[0m 5ms/step - loss: 1.3666e-07 - mae: 2.4118e-04 - val_loss: 1.2387e-07 - val_mae: 1.6957e-04\n",
            "Epoch 15/50\n",
            "\u001b[1m3600/3600\u001b[0m \u001b[32m━━━━━━━━━━━━━━━━━━━━\u001b[0m\u001b[37m\u001b[0m \u001b[1m15s\u001b[0m 3ms/step - loss: 1.3264e-07 - mae: 2.4413e-04 - val_loss: 1.0187e-07 - val_mae: 1.9676e-04\n",
            "Epoch 16/50\n",
            "\u001b[1m3600/3600\u001b[0m \u001b[32m━━━━━━━━━━━━━━━━━━━━\u001b[0m\u001b[37m\u001b[0m \u001b[1m19s\u001b[0m 3ms/step - loss: 1.4320e-07 - mae: 2.5166e-04 - val_loss: 3.9031e-07 - val_mae: 5.9060e-04\n",
            "Epoch 17/50\n",
            "\u001b[1m3600/3600\u001b[0m \u001b[32m━━━━━━━━━━━━━━━━━━━━\u001b[0m\u001b[37m\u001b[0m \u001b[1m10s\u001b[0m 3ms/step - loss: 1.3809e-07 - mae: 2.4761e-04 - val_loss: 1.1144e-07 - val_mae: 1.6341e-04\n",
            "Epoch 18/50\n",
            "\u001b[1m3600/3600\u001b[0m \u001b[32m━━━━━━━━━━━━━━━━━━━━\u001b[0m\u001b[37m\u001b[0m \u001b[1m20s\u001b[0m 3ms/step - loss: 1.3531e-07 - mae: 2.4789e-04 - val_loss: 1.3427e-07 - val_mae: 1.9168e-04\n",
            "Epoch 19/50\n",
            "\u001b[1m3600/3600\u001b[0m \u001b[32m━━━━━━━━━━━━━━━━━━━━\u001b[0m\u001b[37m\u001b[0m \u001b[1m10s\u001b[0m 3ms/step - loss: 1.3729e-07 - mae: 2.4785e-04 - val_loss: 1.3853e-07 - val_mae: 2.0244e-04\n",
            "Epoch 20/50\n",
            "\u001b[1m3600/3600\u001b[0m \u001b[32m━━━━━━━━━━━━━━━━━━━━\u001b[0m\u001b[37m\u001b[0m \u001b[1m11s\u001b[0m 3ms/step - loss: 1.3370e-07 - mae: 2.4245e-04 - val_loss: 1.7267e-07 - val_mae: 2.7087e-04\n",
            "Epoch 21/50\n",
            "\u001b[1m3600/3600\u001b[0m \u001b[32m━━━━━━━━━━━━━━━━━━━━\u001b[0m\u001b[37m\u001b[0m \u001b[1m11s\u001b[0m 3ms/step - loss: 1.3337e-07 - mae: 2.4065e-04 - val_loss: 1.2854e-07 - val_mae: 2.8734e-04\n",
            "Epoch 22/50\n",
            "\u001b[1m3600/3600\u001b[0m \u001b[32m━━━━━━━━━━━━━━━━━━━━\u001b[0m\u001b[37m\u001b[0m \u001b[1m21s\u001b[0m 3ms/step - loss: 1.2617e-07 - mae: 2.3481e-04 - val_loss: 1.2671e-07 - val_mae: 1.7102e-04\n",
            "Epoch 23/50\n",
            "\u001b[1m3600/3600\u001b[0m \u001b[32m━━━━━━━━━━━━━━━━━━━━\u001b[0m\u001b[37m\u001b[0m \u001b[1m11s\u001b[0m 3ms/step - loss: 1.4220e-07 - mae: 2.4610e-04 - val_loss: 1.2148e-07 - val_mae: 2.6845e-04\n",
            "Epoch 24/50\n",
            "\u001b[1m3600/3600\u001b[0m \u001b[32m━━━━━━━━━━━━━━━━━━━━\u001b[0m\u001b[37m\u001b[0m \u001b[1m11s\u001b[0m 3ms/step - loss: 1.3311e-07 - mae: 2.3832e-04 - val_loss: 1.2698e-07 - val_mae: 1.7181e-04\n",
            "Epoch 25/50\n",
            "\u001b[1m3600/3600\u001b[0m \u001b[32m━━━━━━━━━━━━━━━━━━━━\u001b[0m\u001b[37m\u001b[0m \u001b[1m11s\u001b[0m 3ms/step - loss: 1.4113e-07 - mae: 2.5260e-04 - val_loss: 1.3194e-07 - val_mae: 2.9509e-04\n",
            "Epoch 26/50\n",
            "\u001b[1m3600/3600\u001b[0m \u001b[32m━━━━━━━━━━━━━━━━━━━━\u001b[0m\u001b[37m\u001b[0m \u001b[1m20s\u001b[0m 3ms/step - loss: 1.3407e-07 - mae: 2.4130e-04 - val_loss: 1.1314e-07 - val_mae: 2.1520e-04\n",
            "Epoch 27/50\n",
            "\u001b[1m3600/3600\u001b[0m \u001b[32m━━━━━━━━━━━━━━━━━━━━\u001b[0m\u001b[37m\u001b[0m \u001b[1m21s\u001b[0m 3ms/step - loss: 1.3329e-07 - mae: 2.4201e-04 - val_loss: 1.7088e-07 - val_mae: 3.4763e-04\n",
            "Epoch 28/50\n",
            "\u001b[1m3600/3600\u001b[0m \u001b[32m━━━━━━━━━━━━━━━━━━━━\u001b[0m\u001b[37m\u001b[0m \u001b[1m20s\u001b[0m 3ms/step - loss: 1.4010e-07 - mae: 2.4836e-04 - val_loss: 1.0238e-07 - val_mae: 1.8998e-04\n",
            "Epoch 29/50\n",
            "\u001b[1m3600/3600\u001b[0m \u001b[32m━━━━━━━━━━━━━━━━━━━━\u001b[0m\u001b[37m\u001b[0m \u001b[1m19s\u001b[0m 3ms/step - loss: 1.3145e-07 - mae: 2.4064e-04 - val_loss: 1.4107e-07 - val_mae: 1.9904e-04\n",
            "Epoch 30/50\n",
            "\u001b[1m3600/3600\u001b[0m \u001b[32m━━━━━━━━━━━━━━━━━━━━\u001b[0m\u001b[37m\u001b[0m \u001b[1m11s\u001b[0m 3ms/step - loss: 1.3570e-07 - mae: 2.3995e-04 - val_loss: 1.0242e-07 - val_mae: 2.0844e-04\n",
            "Epoch 31/50\n",
            "\u001b[1m3600/3600\u001b[0m \u001b[32m━━━━━━━━━━━━━━━━━━━━\u001b[0m\u001b[37m\u001b[0m \u001b[1m11s\u001b[0m 3ms/step - loss: 1.3584e-07 - mae: 2.4374e-04 - val_loss: 2.0831e-07 - val_mae: 4.1033e-04\n",
            "Epoch 32/50\n",
            "\u001b[1m3600/3600\u001b[0m \u001b[32m━━━━━━━━━━━━━━━━━━━━\u001b[0m\u001b[37m\u001b[0m \u001b[1m20s\u001b[0m 3ms/step - loss: 1.5066e-07 - mae: 2.5009e-04 - val_loss: 1.2084e-07 - val_mae: 2.7061e-04\n",
            "Epoch 33/50\n",
            "\u001b[1m3600/3600\u001b[0m \u001b[32m━━━━━━━━━━━━━━━━━━━━\u001b[0m\u001b[37m\u001b[0m \u001b[1m21s\u001b[0m 3ms/step - loss: 1.3032e-07 - mae: 2.3823e-04 - val_loss: 1.0301e-07 - val_mae: 1.7447e-04\n",
            "Epoch 34/50\n",
            "\u001b[1m3600/3600\u001b[0m \u001b[32m━━━━━━━━━━━━━━━━━━━━\u001b[0m\u001b[37m\u001b[0m \u001b[1m11s\u001b[0m 3ms/step - loss: 1.3489e-07 - mae: 2.4168e-04 - val_loss: 1.6859e-07 - val_mae: 3.5714e-04\n",
            "Epoch 35/50\n",
            "\u001b[1m3600/3600\u001b[0m \u001b[32m━━━━━━━━━━━━━━━━━━━━\u001b[0m\u001b[37m\u001b[0m \u001b[1m12s\u001b[0m 3ms/step - loss: 1.3802e-07 - mae: 2.4563e-04 - val_loss: 1.1376e-07 - val_mae: 1.6863e-04\n",
            "Epoch 36/50\n",
            "\u001b[1m3600/3600\u001b[0m \u001b[32m━━━━━━━━━━━━━━━━━━━━\u001b[0m\u001b[37m\u001b[0m \u001b[1m11s\u001b[0m 3ms/step - loss: 1.3411e-07 - mae: 2.4058e-04 - val_loss: 2.1863e-07 - val_mae: 3.4212e-04\n",
            "Epoch 37/50\n",
            "\u001b[1m3600/3600\u001b[0m \u001b[32m━━━━━━━━━━━━━━━━━━━━\u001b[0m\u001b[37m\u001b[0m \u001b[1m21s\u001b[0m 3ms/step - loss: 1.3834e-07 - mae: 2.5027e-04 - val_loss: 1.4980e-07 - val_mae: 3.2702e-04\n",
            "Epoch 38/50\n",
            "\u001b[1m3600/3600\u001b[0m \u001b[32m━━━━━━━━━━━━━━━━━━━━\u001b[0m\u001b[37m\u001b[0m \u001b[1m12s\u001b[0m 3ms/step - loss: 1.4209e-07 - mae: 2.5083e-04 - val_loss: 1.1332e-07 - val_mae: 1.6425e-04\n",
            "Epoch 39/50\n",
            "\u001b[1m3600/3600\u001b[0m \u001b[32m━━━━━━━━━━━━━━━━━━━━\u001b[0m\u001b[37m\u001b[0m \u001b[1m20s\u001b[0m 3ms/step - loss: 1.3650e-07 - mae: 2.4556e-04 - val_loss: 2.9516e-07 - val_mae: 4.3900e-04\n",
            "Epoch 40/50\n",
            "\u001b[1m3600/3600\u001b[0m \u001b[32m━━━━━━━━━━━━━━━━━━━━\u001b[0m\u001b[37m\u001b[0m \u001b[1m21s\u001b[0m 3ms/step - loss: 1.3280e-07 - mae: 2.4595e-04 - val_loss: 1.6049e-07 - val_mae: 3.4301e-04\n",
            "Epoch 41/50\n",
            "\u001b[1m3600/3600\u001b[0m \u001b[32m━━━━━━━━━━━━━━━━━━━━\u001b[0m\u001b[37m\u001b[0m \u001b[1m21s\u001b[0m 3ms/step - loss: 1.3423e-07 - mae: 2.4663e-04 - val_loss: 1.0863e-07 - val_mae: 1.6789e-04\n",
            "Epoch 42/50\n",
            "\u001b[1m3600/3600\u001b[0m \u001b[32m━━━━━━━━━━━━━━━━━━━━\u001b[0m\u001b[37m\u001b[0m \u001b[1m12s\u001b[0m 3ms/step - loss: 1.3064e-07 - mae: 2.3854e-04 - val_loss: 1.0282e-07 - val_mae: 2.0683e-04\n",
            "Epoch 43/50\n",
            "\u001b[1m3600/3600\u001b[0m \u001b[32m━━━━━━━━━━━━━━━━━━━━\u001b[0m\u001b[37m\u001b[0m \u001b[1m11s\u001b[0m 3ms/step - loss: 1.3630e-07 - mae: 2.4482e-04 - val_loss: 1.4841e-07 - val_mae: 2.4439e-04\n",
            "Epoch 44/50\n",
            "\u001b[1m3600/3600\u001b[0m \u001b[32m━━━━━━━━━━━━━━━━━━━━\u001b[0m\u001b[37m\u001b[0m \u001b[1m11s\u001b[0m 3ms/step - loss: 1.2920e-07 - mae: 2.3906e-04 - val_loss: 1.5973e-07 - val_mae: 3.4315e-04\n",
            "Epoch 45/50\n",
            "\u001b[1m3600/3600\u001b[0m \u001b[32m━━━━━━━━━━━━━━━━━━━━\u001b[0m\u001b[37m\u001b[0m \u001b[1m12s\u001b[0m 3ms/step - loss: 1.3386e-07 - mae: 2.4267e-04 - val_loss: 1.0147e-07 - val_mae: 1.9506e-04\n",
            "Epoch 46/50\n",
            "\u001b[1m3600/3600\u001b[0m \u001b[32m━━━━━━━━━━━━━━━━━━━━\u001b[0m\u001b[37m\u001b[0m \u001b[1m12s\u001b[0m 3ms/step - loss: 1.4355e-07 - mae: 2.5338e-04 - val_loss: 1.5018e-07 - val_mae: 3.2148e-04\n",
            "Epoch 47/50\n",
            "\u001b[1m3600/3600\u001b[0m \u001b[32m━━━━━━━━━━━━━━━━━━━━\u001b[0m\u001b[37m\u001b[0m \u001b[1m20s\u001b[0m 3ms/step - loss: 1.3623e-07 - mae: 2.4781e-04 - val_loss: 1.0383e-07 - val_mae: 1.7657e-04\n",
            "Epoch 48/50\n",
            "\u001b[1m3600/3600\u001b[0m \u001b[32m━━━━━━━━━━━━━━━━━━━━\u001b[0m\u001b[37m\u001b[0m \u001b[1m12s\u001b[0m 3ms/step - loss: 1.3581e-07 - mae: 2.4302e-04 - val_loss: 1.0668e-07 - val_mae: 1.6722e-04\n",
            "Epoch 49/50\n",
            "\u001b[1m3600/3600\u001b[0m \u001b[32m━━━━━━━━━━━━━━━━━━━━\u001b[0m\u001b[37m\u001b[0m \u001b[1m19s\u001b[0m 3ms/step - loss: 1.3183e-07 - mae: 2.3909e-04 - val_loss: 1.0149e-07 - val_mae: 1.8042e-04\n",
            "Epoch 50/50\n",
            "\u001b[1m3600/3600\u001b[0m \u001b[32m━━━━━━━━━━━━━━━━━━━━\u001b[0m\u001b[37m\u001b[0m \u001b[1m10s\u001b[0m 3ms/step - loss: 1.2786e-07 - mae: 2.3982e-04 - val_loss: 1.1976e-07 - val_mae: 2.6739e-04\n"
          ]
        },
        {
          "output_type": "stream",
          "name": "stderr",
          "text": [
            "WARNING:absl:You are saving your model as an HDF5 file via `model.save()` or `keras.saving.save_model(model)`. This file format is considered legacy. We recommend using instead the native Keras format, e.g. `model.save('my_model.keras')` or `keras.saving.save_model(model, 'my_model.keras')`. \n"
          ]
        }
      ]
    },
    {
      "cell_type": "code",
      "source": [
        "# Train Model for PGV Prediction\n",
        "model_pgv = build_ann()\n",
        "history_pgv = model_pgv.fit(X_train_scaled, y_train_pgv, epochs=50, batch_size=8, validation_data=(X_test_scaled, y_test_pgv))\n",
        "model_pgv.save(\"/content/pgv_model.h5\")"
      ],
      "metadata": {
        "colab": {
          "base_uri": "https://localhost:8080/"
        },
        "id": "xLGfUOhg2Yu4",
        "outputId": "346122b9-551b-47b1-9db2-697c9b9d6853"
      },
      "execution_count": null,
      "outputs": [
        {
          "output_type": "stream",
          "name": "stdout",
          "text": [
            "Epoch 1/50\n"
          ]
        },
        {
          "output_type": "stream",
          "name": "stderr",
          "text": [
            "/usr/local/lib/python3.11/dist-packages/keras/src/layers/core/dense.py:87: UserWarning: Do not pass an `input_shape`/`input_dim` argument to a layer. When using Sequential models, prefer using an `Input(shape)` object as the first layer in the model instead.\n",
            "  super().__init__(activity_regularizer=activity_regularizer, **kwargs)\n"
          ]
        },
        {
          "output_type": "stream",
          "name": "stdout",
          "text": [
            "\u001b[1m3600/3600\u001b[0m \u001b[32m━━━━━━━━━━━━━━━━━━━━\u001b[0m\u001b[37m\u001b[0m \u001b[1m14s\u001b[0m 4ms/step - loss: 2.1470e-04 - mae: 0.0026 - val_loss: 2.8012e-08 - val_mae: 1.2825e-04\n",
            "Epoch 2/50\n",
            "\u001b[1m3600/3600\u001b[0m \u001b[32m━━━━━━━━━━━━━━━━━━━━\u001b[0m\u001b[37m\u001b[0m \u001b[1m20s\u001b[0m 4ms/step - loss: 8.9218e-08 - mae: 1.5663e-04 - val_loss: 2.5401e-08 - val_mae: 1.0487e-04\n",
            "Epoch 3/50\n",
            "\u001b[1m3600/3600\u001b[0m \u001b[32m━━━━━━━━━━━━━━━━━━━━\u001b[0m\u001b[37m\u001b[0m \u001b[1m11s\u001b[0m 3ms/step - loss: 7.3280e-07 - mae: 3.0708e-04 - val_loss: 2.3177e-08 - val_mae: 1.1567e-04\n",
            "Epoch 4/50\n",
            "\u001b[1m3600/3600\u001b[0m \u001b[32m━━━━━━━━━━━━━━━━━━━━\u001b[0m\u001b[37m\u001b[0m \u001b[1m20s\u001b[0m 3ms/step - loss: 2.9098e-08 - mae: 1.1184e-04 - val_loss: 3.3453e-08 - val_mae: 1.1908e-04\n",
            "Epoch 5/50\n",
            "\u001b[1m3600/3600\u001b[0m \u001b[32m━━━━━━━━━━━━━━━━━━━━\u001b[0m\u001b[37m\u001b[0m \u001b[1m11s\u001b[0m 3ms/step - loss: 1.7558e-07 - mae: 1.7422e-04 - val_loss: 1.0977e-08 - val_mae: 7.5698e-05\n",
            "Epoch 6/50\n",
            "\u001b[1m3600/3600\u001b[0m \u001b[32m━━━━━━━━━━━━━━━━━━━━\u001b[0m\u001b[37m\u001b[0m \u001b[1m20s\u001b[0m 3ms/step - loss: 1.8791e-08 - mae: 1.0607e-04 - val_loss: 1.7974e-08 - val_mae: 1.0386e-04\n",
            "Epoch 7/50\n",
            "\u001b[1m3600/3600\u001b[0m \u001b[32m━━━━━━━━━━━━━━━━━━━━\u001b[0m\u001b[37m\u001b[0m \u001b[1m21s\u001b[0m 3ms/step - loss: 1.6433e-08 - mae: 9.9021e-05 - val_loss: 2.8320e-08 - val_mae: 1.5135e-04\n",
            "Epoch 8/50\n",
            "\u001b[1m3600/3600\u001b[0m \u001b[32m━━━━━━━━━━━━━━━━━━━━\u001b[0m\u001b[37m\u001b[0m \u001b[1m20s\u001b[0m 3ms/step - loss: 2.0013e-08 - mae: 1.0282e-04 - val_loss: 1.7300e-08 - val_mae: 9.9211e-05\n",
            "Epoch 9/50\n",
            "\u001b[1m3600/3600\u001b[0m \u001b[32m━━━━━━━━━━━━━━━━━━━━\u001b[0m\u001b[37m\u001b[0m \u001b[1m21s\u001b[0m 3ms/step - loss: 1.2378e-08 - mae: 8.5668e-05 - val_loss: 6.6940e-08 - val_mae: 2.4490e-04\n",
            "Epoch 10/50\n",
            "\u001b[1m3600/3600\u001b[0m \u001b[32m━━━━━━━━━━━━━━━━━━━━\u001b[0m\u001b[37m\u001b[0m \u001b[1m11s\u001b[0m 3ms/step - loss: 1.6936e-08 - mae: 1.0162e-04 - val_loss: 1.9557e-08 - val_mae: 1.2211e-04\n",
            "Epoch 11/50\n",
            "\u001b[1m3600/3600\u001b[0m \u001b[32m━━━━━━━━━━━━━━━━━━━━\u001b[0m\u001b[37m\u001b[0m \u001b[1m20s\u001b[0m 3ms/step - loss: 1.6871e-08 - mae: 1.0173e-04 - val_loss: 1.0267e-08 - val_mae: 8.1232e-05\n",
            "Epoch 12/50\n",
            "\u001b[1m3600/3600\u001b[0m \u001b[32m━━━━━━━━━━━━━━━━━━━━\u001b[0m\u001b[37m\u001b[0m \u001b[1m11s\u001b[0m 3ms/step - loss: 1.6814e-08 - mae: 1.0097e-04 - val_loss: 1.0212e-08 - val_mae: 8.0908e-05\n",
            "Epoch 13/50\n",
            "\u001b[1m3600/3600\u001b[0m \u001b[32m━━━━━━━━━━━━━━━━━━━━\u001b[0m\u001b[37m\u001b[0m \u001b[1m12s\u001b[0m 3ms/step - loss: 1.6169e-08 - mae: 9.8771e-05 - val_loss: 1.0126e-08 - val_mae: 7.2544e-05\n",
            "Epoch 14/50\n",
            "\u001b[1m3600/3600\u001b[0m \u001b[32m━━━━━━━━━━━━━━━━━━━━\u001b[0m\u001b[37m\u001b[0m \u001b[1m20s\u001b[0m 3ms/step - loss: 1.6981e-08 - mae: 1.0049e-04 - val_loss: 1.1771e-08 - val_mae: 8.9244e-05\n",
            "Epoch 15/50\n",
            "\u001b[1m3600/3600\u001b[0m \u001b[32m━━━━━━━━━━━━━━━━━━━━\u001b[0m\u001b[37m\u001b[0m \u001b[1m11s\u001b[0m 3ms/step - loss: 1.6292e-08 - mae: 9.9285e-05 - val_loss: 4.1678e-08 - val_mae: 1.8865e-04\n",
            "Epoch 16/50\n",
            "\u001b[1m3600/3600\u001b[0m \u001b[32m━━━━━━━━━━━━━━━━━━━━\u001b[0m\u001b[37m\u001b[0m \u001b[1m10s\u001b[0m 3ms/step - loss: 1.7836e-08 - mae: 1.0430e-04 - val_loss: 9.5069e-09 - val_mae: 7.0908e-05\n",
            "Epoch 17/50\n",
            "\u001b[1m3600/3600\u001b[0m \u001b[32m━━━━━━━━━━━━━━━━━━━━\u001b[0m\u001b[37m\u001b[0m \u001b[1m11s\u001b[0m 3ms/step - loss: 1.8052e-08 - mae: 1.0410e-04 - val_loss: 1.6514e-08 - val_mae: 1.1037e-04\n",
            "Epoch 18/50\n",
            "\u001b[1m3600/3600\u001b[0m \u001b[32m━━━━━━━━━━━━━━━━━━━━\u001b[0m\u001b[37m\u001b[0m \u001b[1m20s\u001b[0m 3ms/step - loss: 1.7479e-08 - mae: 1.0244e-04 - val_loss: 3.0108e-08 - val_mae: 1.5704e-04\n",
            "Epoch 19/50\n",
            "\u001b[1m3600/3600\u001b[0m \u001b[32m━━━━━━━━━━━━━━━━━━━━\u001b[0m\u001b[37m\u001b[0m \u001b[1m11s\u001b[0m 3ms/step - loss: 1.6986e-08 - mae: 1.0200e-04 - val_loss: 1.1423e-08 - val_mae: 8.7467e-05\n",
            "Epoch 20/50\n",
            "\u001b[1m3600/3600\u001b[0m \u001b[32m━━━━━━━━━━━━━━━━━━━━\u001b[0m\u001b[37m\u001b[0m \u001b[1m21s\u001b[0m 3ms/step - loss: 1.6980e-08 - mae: 1.0156e-04 - val_loss: 1.9300e-08 - val_mae: 1.2115e-04\n",
            "Epoch 21/50\n",
            "\u001b[1m3600/3600\u001b[0m \u001b[32m━━━━━━━━━━━━━━━━━━━━\u001b[0m\u001b[37m\u001b[0m \u001b[1m19s\u001b[0m 3ms/step - loss: 1.6702e-08 - mae: 1.0098e-04 - val_loss: 9.5818e-09 - val_mae: 7.7081e-05\n",
            "Epoch 22/50\n",
            "\u001b[1m3600/3600\u001b[0m \u001b[32m━━━━━━━━━━━━━━━━━━━━\u001b[0m\u001b[37m\u001b[0m \u001b[1m11s\u001b[0m 3ms/step - loss: 1.5920e-08 - mae: 9.8612e-05 - val_loss: 1.4521e-08 - val_mae: 8.8436e-05\n",
            "Epoch 23/50\n",
            "\u001b[1m3600/3600\u001b[0m \u001b[32m━━━━━━━━━━━━━━━━━━━━\u001b[0m\u001b[37m\u001b[0m \u001b[1m11s\u001b[0m 3ms/step - loss: 1.6996e-08 - mae: 1.0107e-04 - val_loss: 1.9863e-08 - val_mae: 1.0916e-04\n",
            "Epoch 24/50\n",
            "\u001b[1m3600/3600\u001b[0m \u001b[32m━━━━━━━━━━━━━━━━━━━━\u001b[0m\u001b[37m\u001b[0m \u001b[1m11s\u001b[0m 3ms/step - loss: 1.6701e-08 - mae: 1.0068e-04 - val_loss: 2.5826e-08 - val_mae: 1.4377e-04\n",
            "Epoch 25/50\n",
            "\u001b[1m3600/3600\u001b[0m \u001b[32m━━━━━━━━━━━━━━━━━━━━\u001b[0m\u001b[37m\u001b[0m \u001b[1m20s\u001b[0m 3ms/step - loss: 1.5976e-08 - mae: 9.8406e-05 - val_loss: 9.0583e-09 - val_mae: 7.0383e-05\n",
            "Epoch 26/50\n",
            "\u001b[1m3600/3600\u001b[0m \u001b[32m━━━━━━━━━━━━━━━━━━━━\u001b[0m\u001b[37m\u001b[0m \u001b[1m21s\u001b[0m 3ms/step - loss: 1.5733e-08 - mae: 9.7881e-05 - val_loss: 1.6949e-08 - val_mae: 9.7896e-05\n",
            "Epoch 27/50\n",
            "\u001b[1m3600/3600\u001b[0m \u001b[32m━━━━━━━━━━━━━━━━━━━━\u001b[0m\u001b[37m\u001b[0m \u001b[1m11s\u001b[0m 3ms/step - loss: 1.7050e-08 - mae: 1.0171e-04 - val_loss: 9.0999e-09 - val_mae: 7.3549e-05\n",
            "Epoch 28/50\n",
            "\u001b[1m3600/3600\u001b[0m \u001b[32m━━━━━━━━━━━━━━━━━━━━\u001b[0m\u001b[37m\u001b[0m \u001b[1m21s\u001b[0m 3ms/step - loss: 1.7529e-08 - mae: 1.0365e-04 - val_loss: 9.3031e-09 - val_mae: 7.5153e-05\n",
            "Epoch 29/50\n",
            "\u001b[1m3600/3600\u001b[0m \u001b[32m━━━━━━━━━━━━━━━━━━━━\u001b[0m\u001b[37m\u001b[0m \u001b[1m11s\u001b[0m 3ms/step - loss: 1.7179e-08 - mae: 1.0190e-04 - val_loss: 9.0859e-09 - val_mae: 7.3423e-05\n",
            "Epoch 30/50\n",
            "\u001b[1m3600/3600\u001b[0m \u001b[32m━━━━━━━━━━━━━━━━━━━━\u001b[0m\u001b[37m\u001b[0m \u001b[1m11s\u001b[0m 3ms/step - loss: 1.7751e-08 - mae: 1.0381e-04 - val_loss: 9.2595e-09 - val_mae: 7.0470e-05\n",
            "Epoch 31/50\n",
            "\u001b[1m3600/3600\u001b[0m \u001b[32m━━━━━━━━━━━━━━━━━━━━\u001b[0m\u001b[37m\u001b[0m \u001b[1m20s\u001b[0m 3ms/step - loss: 1.6799e-08 - mae: 1.0095e-04 - val_loss: 1.3037e-08 - val_mae: 9.5363e-05\n",
            "Epoch 32/50\n",
            "\u001b[1m3600/3600\u001b[0m \u001b[32m━━━━━━━━━━━━━━━━━━━━\u001b[0m\u001b[37m\u001b[0m \u001b[1m20s\u001b[0m 3ms/step - loss: 1.7289e-08 - mae: 1.0260e-04 - val_loss: 1.2834e-08 - val_mae: 8.1950e-05\n",
            "Epoch 33/50\n",
            "\u001b[1m3600/3600\u001b[0m \u001b[32m━━━━━━━━━━━━━━━━━━━━\u001b[0m\u001b[37m\u001b[0m \u001b[1m21s\u001b[0m 3ms/step - loss: 1.6945e-08 - mae: 1.0138e-04 - val_loss: 1.0945e-08 - val_mae: 8.4957e-05\n",
            "Epoch 34/50\n",
            "\u001b[1m3600/3600\u001b[0m \u001b[32m━━━━━━━━━━━━━━━━━━━━\u001b[0m\u001b[37m\u001b[0m \u001b[1m12s\u001b[0m 3ms/step - loss: 1.6490e-08 - mae: 9.9546e-05 - val_loss: 3.0283e-08 - val_mae: 1.4648e-04\n",
            "Epoch 35/50\n",
            "\u001b[1m3600/3600\u001b[0m \u001b[32m━━━━━━━━━━━━━━━━━━━━\u001b[0m\u001b[37m\u001b[0m \u001b[1m20s\u001b[0m 3ms/step - loss: 1.6490e-08 - mae: 1.0011e-04 - val_loss: 8.9476e-09 - val_mae: 7.1838e-05\n",
            "Epoch 36/50\n",
            "\u001b[1m3600/3600\u001b[0m \u001b[32m━━━━━━━━━━━━━━━━━━━━\u001b[0m\u001b[37m\u001b[0m \u001b[1m21s\u001b[0m 3ms/step - loss: 1.8300e-08 - mae: 1.0550e-04 - val_loss: 1.8154e-08 - val_mae: 1.0257e-04\n",
            "Epoch 37/50\n",
            "\u001b[1m3600/3600\u001b[0m \u001b[32m━━━━━━━━━━━━━━━━━━━━\u001b[0m\u001b[37m\u001b[0m \u001b[1m21s\u001b[0m 3ms/step - loss: 1.6265e-08 - mae: 9.9563e-05 - val_loss: 9.9329e-09 - val_mae: 7.9275e-05\n",
            "Epoch 38/50\n",
            "\u001b[1m3600/3600\u001b[0m \u001b[32m━━━━━━━━━━━━━━━━━━━━\u001b[0m\u001b[37m\u001b[0m \u001b[1m11s\u001b[0m 3ms/step - loss: 1.5684e-08 - mae: 9.7447e-05 - val_loss: 1.0384e-08 - val_mae: 8.1886e-05\n",
            "Epoch 39/50\n",
            "\u001b[1m3600/3600\u001b[0m \u001b[32m━━━━━━━━━━━━━━━━━━━━\u001b[0m\u001b[37m\u001b[0m \u001b[1m11s\u001b[0m 3ms/step - loss: 1.7125e-08 - mae: 1.0200e-04 - val_loss: 9.6470e-09 - val_mae: 7.7505e-05\n",
            "Epoch 40/50\n",
            "\u001b[1m3600/3600\u001b[0m \u001b[32m━━━━━━━━━━━━━━━━━━━━\u001b[0m\u001b[37m\u001b[0m \u001b[1m21s\u001b[0m 3ms/step - loss: 1.7179e-08 - mae: 1.0188e-04 - val_loss: 1.1405e-08 - val_mae: 8.7373e-05\n",
            "Epoch 41/50\n",
            "\u001b[1m3600/3600\u001b[0m \u001b[32m━━━━━━━━━━━━━━━━━━━━\u001b[0m\u001b[37m\u001b[0m \u001b[1m20s\u001b[0m 3ms/step - loss: 1.7275e-08 - mae: 1.0246e-04 - val_loss: 1.1759e-08 - val_mae: 8.9182e-05\n",
            "Epoch 42/50\n",
            "\u001b[1m3600/3600\u001b[0m \u001b[32m━━━━━━━━━━━━━━━━━━━━\u001b[0m\u001b[37m\u001b[0m \u001b[1m11s\u001b[0m 3ms/step - loss: 1.7436e-08 - mae: 1.0351e-04 - val_loss: 9.7691e-09 - val_mae: 7.1544e-05\n",
            "Epoch 43/50\n",
            "\u001b[1m3600/3600\u001b[0m \u001b[32m━━━━━━━━━━━━━━━━━━━━\u001b[0m\u001b[37m\u001b[0m \u001b[1m21s\u001b[0m 3ms/step - loss: 1.7182e-08 - mae: 1.0206e-04 - val_loss: 1.7229e-08 - val_mae: 1.1322e-04\n",
            "Epoch 44/50\n",
            "\u001b[1m3600/3600\u001b[0m \u001b[32m━━━━━━━━━━━━━━━━━━━━\u001b[0m\u001b[37m\u001b[0m \u001b[1m20s\u001b[0m 3ms/step - loss: 1.6875e-08 - mae: 1.0190e-04 - val_loss: 2.7764e-08 - val_mae: 1.3795e-04\n",
            "Epoch 45/50\n",
            "\u001b[1m3600/3600\u001b[0m \u001b[32m━━━━━━━━━━━━━━━━━━━━\u001b[0m\u001b[37m\u001b[0m \u001b[1m11s\u001b[0m 3ms/step - loss: 1.7337e-08 - mae: 1.0302e-04 - val_loss: 1.1909e-08 - val_mae: 8.9933e-05\n",
            "Epoch 46/50\n",
            "\u001b[1m3600/3600\u001b[0m \u001b[32m━━━━━━━━━━━━━━━━━━━━\u001b[0m\u001b[37m\u001b[0m \u001b[1m20s\u001b[0m 3ms/step - loss: 1.5660e-08 - mae: 9.6786e-05 - val_loss: 1.1106e-08 - val_mae: 8.5814e-05\n",
            "Epoch 47/50\n",
            "\u001b[1m3600/3600\u001b[0m \u001b[32m━━━━━━━━━━━━━━━━━━━━\u001b[0m\u001b[37m\u001b[0m \u001b[1m20s\u001b[0m 3ms/step - loss: 1.6709e-08 - mae: 1.0135e-04 - val_loss: 2.1115e-08 - val_mae: 1.1392e-04\n",
            "Epoch 48/50\n",
            "\u001b[1m3600/3600\u001b[0m \u001b[32m━━━━━━━━━━━━━━━━━━━━\u001b[0m\u001b[37m\u001b[0m \u001b[1m11s\u001b[0m 3ms/step - loss: 1.5886e-08 - mae: 9.8219e-05 - val_loss: 1.2792e-08 - val_mae: 8.1790e-05\n",
            "Epoch 49/50\n",
            "\u001b[1m3600/3600\u001b[0m \u001b[32m━━━━━━━━━━━━━━━━━━━━\u001b[0m\u001b[37m\u001b[0m \u001b[1m20s\u001b[0m 3ms/step - loss: 1.7108e-08 - mae: 1.0191e-04 - val_loss: 4.0803e-08 - val_mae: 1.7854e-04\n",
            "Epoch 50/50\n",
            "\u001b[1m3600/3600\u001b[0m \u001b[32m━━━━━━━━━━━━━━━━━━━━\u001b[0m\u001b[37m\u001b[0m \u001b[1m21s\u001b[0m 3ms/step - loss: 1.7386e-08 - mae: 1.0354e-04 - val_loss: 1.0227e-08 - val_mae: 7.2845e-05\n"
          ]
        },
        {
          "output_type": "stream",
          "name": "stderr",
          "text": [
            "WARNING:absl:You are saving your model as an HDF5 file via `model.save()` or `keras.saving.save_model(model)`. This file format is considered legacy. We recommend using instead the native Keras format, e.g. `model.save('my_model.keras')` or `keras.saving.save_model(model, 'my_model.keras')`. \n"
          ]
        }
      ]
    },
    {
      "cell_type": "code",
      "source": [
        "# Predictions\n",
        "y_pred_pga = model_pga.predict(X_test_scaled)\n",
        "y_pred_pgv = model_pgv.predict(X_test_scaled)"
      ],
      "metadata": {
        "colab": {
          "base_uri": "https://localhost:8080/"
        },
        "id": "rdawnZHx2Yr8",
        "outputId": "744ce0f2-8e73-46b4-cde1-9aa57851e666"
      },
      "execution_count": null,
      "outputs": [
        {
          "output_type": "stream",
          "name": "stdout",
          "text": [
            "\u001b[1m225/225\u001b[0m \u001b[32m━━━━━━━━━━━━━━━━━━━━\u001b[0m\u001b[37m\u001b[0m \u001b[1m1s\u001b[0m 2ms/step\n",
            "\u001b[1m225/225\u001b[0m \u001b[32m━━━━━━━━━━━━━━━━━━━━\u001b[0m\u001b[37m\u001b[0m \u001b[1m0s\u001b[0m 1ms/step\n"
          ]
        }
      ]
    },
    {
      "cell_type": "code",
      "source": [
        "# Evaluate Models\n",
        "mae_pga = mean_absolute_error(y_test_pga, y_pred_pga)\n",
        "mse_pga = mean_squared_error(y_test_pga, y_pred_pga)\n",
        "r2_pga = r2_score(y_test_pga, y_pred_pga)\n",
        "\n",
        "mae_pgv = mean_absolute_error(y_test_pgv, y_pred_pgv)\n",
        "mse_pgv = mean_squared_error(y_test_pgv, y_pred_pgv)\n",
        "r2_pgv = r2_score(y_test_pgv, y_pred_pgv)\n",
        "\n",
        "print(\"PGA Model Evaluation:\")\n",
        "print(f\"MAE  = {mae_pga:.4f}, R² Score = {r2_pga:.4f}\")\n",
        "\n",
        "print(\"PGV Model Evaluation:\")\n",
        "print(f\"MAE  = {mae_pgv:.4f}, R² Score = {r2_pgv:.4f}\")"
      ],
      "metadata": {
        "colab": {
          "base_uri": "https://localhost:8080/"
        },
        "id": "xZaQ8tfi2YpJ",
        "outputId": "67f54622-feb1-424b-fc18-da4bad8ef421"
      },
      "execution_count": null,
      "outputs": [
        {
          "output_type": "stream",
          "name": "stdout",
          "text": [
            "PGA Model Evaluation:\n",
            "MAE  = 0.0003, R² Score = 0.2633\n",
            "PGV Model Evaluation:\n",
            "MAE  = 0.0001, R² Score = -0.1457\n"
          ]
        }
      ]
    },
    {
      "cell_type": "markdown",
      "source": [
        "**Purpose**: Visualizes how well the model predicts PGA.\n",
        "\n",
        "plt.figure(figsize=(10, 4)): Sets figure size.\n",
        "\n",
        "plt.subplot(1, 2, 1): Creates a subplot (1 row, 2 columns, 1st plot).\n",
        "\n",
        "Scatter Plot (sns.scatterplot): X-axis: Actual PGA values, Y-axis: Predicted PGA values, Color: Blue, with transparency"
      ],
      "metadata": {
        "id": "NxCHtkcQEyKb"
      }
    },
    {
      "cell_type": "code",
      "source": [
        "import seaborn as sns\n",
        "\n",
        "# Plot Actual vs. Predicted for PGA\n",
        "plt.figure(figsize=(10, 4))\n",
        "plt.subplot(1, 2, 1)\n",
        "sns.scatterplot(x=y_test_pga.values.flatten(), y=y_pred_pga.flatten(), color=\"blue\", alpha=0.7)\n",
        "plt.plot([y_test_pga.min(), y_test_pga.max()], [y_test_pga.min(), y_test_pga.max()], color='red', linestyle='--', linewidth=2)\n",
        "plt.xlabel(\"Actual PGA\")\n",
        "plt.ylabel(\"Predicted PGA\")\n",
        "plt.title(\"Actual vs Predicted PGA\")"
      ],
      "metadata": {
        "colab": {
          "base_uri": "https://localhost:8080/",
          "height": 427
        },
        "id": "qovxYnpo2YmW",
        "outputId": "d5488d23-2a07-406b-e816-3f334c29e6f4"
      },
      "execution_count": null,
      "outputs": [
        {
          "output_type": "execute_result",
          "data": {
            "text/plain": [
              "Text(0.5, 1.0, 'Actual vs Predicted PGA')"
            ]
          },
          "metadata": {},
          "execution_count": 30
        },
        {
          "output_type": "display_data",
          "data": {
            "text/plain": [
              "<Figure size 1000x400 with 1 Axes>"
            ],
            "image/png": "[encoded data removed]"
          },
          "metadata": {}
        }
      ]
    },
    {
      "cell_type": "markdown",
      "source": [
        "**Purpose**: Evaluates model accuracy for PGV predictions by comparing actual vs. predicted values.\n",
        "\n",
        "plt.subplot(1, 2, 2): Adds the second subplot (side-by-side with the PGA plot).\n",
        "\n",
        "Scatter Plot (sns.scatterplot): X-axis: Actual PGV values, Y-axis: Predicted PGV values, Color: Green, with transparency"
      ],
      "metadata": {
        "id": "oaCZZUiLFCYq"
      }
    },
    {
      "cell_type": "code",
      "source": [
        "# Plot Actual vs. Predicted for PGV\n",
        "plt.subplot(1, 2, 2)\n",
        "sns.scatterplot(x=y_test_pgv.values.flatten(), y=y_pred_pgv.flatten(), color=\"green\", alpha=0.7)\n",
        "plt.plot([y_test_pgv.min(), y_test_pgv.max()], [y_test_pgv.min(), y_test_pgv.max()], color='red', linestyle='--', linewidth=2)\n",
        "plt.xlabel(\"Actual PGV\")\n",
        "plt.ylabel(\"Predicted PGV\")\n",
        "plt.title(\"Actual vs Predicted PGV\")\n",
        "\n",
        "plt.tight_layout()\n",
        "plt.show()"
      ],
      "metadata": {
        "colab": {
          "base_uri": "https://localhost:8080/",
          "height": 487
        },
        "id": "iILT7Y4E2Yjp",
        "outputId": "d70483e4-5ded-4b08-ea0a-086a40108a12"
      },
      "execution_count": null,
      "outputs": [
        {
          "output_type": "display_data",
          "data": {
            "text/plain": [
              "<Figure size 640x480 with 1 Axes>"
            ],
            "image/png": "[encoded data removed]"
          },
          "metadata": {}
        }
      ]
    },
    {
      "cell_type": "markdown",
      "source": [
        "**Purpose**: Visualizes training & validation loss curves for both PGA & PGV models to check convergence and overfitting.\n",
        "\n",
        "Plotting Loss Curves:\n",
        "\n",
        "1. PGA Training Loss: Blue solid line.\n",
        "\n",
        "2. PGA Validation Loss: Red dashed line.\n",
        "\n",
        "3. PGV Training Loss: Green solid line.\n",
        "\n",
        "4. PGV Validation Loss: Orange dashed line.\n",
        "\n",
        "X-axis (Epochs): Represents the number of training iterations.\n",
        "\n",
        "Y-axis (Loss (MSE)): Tracks how well the model is learning."
      ],
      "metadata": {
        "id": "3OytsbSPFO0r"
      }
    },
    {
      "cell_type": "code",
      "source": [
        "plt.figure(figsize=(10, 5))\n",
        "plt.plot(history_pga.history['loss'], label=\"PGA Training Loss\", color=\"blue\")\n",
        "plt.plot(history_pga.history['val_loss'], label=\"PGA Validation Loss\", color=\"red\", linestyle=\"--\")\n",
        "plt.plot(history_pgv.history['loss'], label=\"PGV Training Loss\", color=\"green\")\n",
        "plt.plot(history_pgv.history['val_loss'], label=\"PGV Validation Loss\", color=\"orange\", linestyle=\"--\")\n",
        "plt.xlabel(\"Epochs\")\n",
        "plt.ylabel(\"Loss (MSE)\")\n",
        "plt.title(\"Model Learning Curve\")\n",
        "plt.legend()\n",
        "plt.show()"
      ],
      "metadata": {
        "colab": {
          "base_uri": "https://localhost:8080/",
          "height": 487
        },
        "id": "aAADJHVL2Yg4",
        "outputId": "50139172-528f-4152-9a00-73f33e3c8a7d"
      },
      "execution_count": null,
      "outputs": [
        {
          "output_type": "display_data",
          "data": {
            "text/plain": [
              "<Figure size 1000x500 with 1 Axes>"
            ],
            "image/png": "[encoded data removed]"
          },
          "metadata": {}
        }
      ]
    },
    {
      "cell_type": "markdown",
      "source": [
        "**Purpose**: Visualizes residuals (errors) for PGA & PGV predictions to analyze model accuracy and bias.\n",
        "\n",
        "**Residual Calculation**:\n",
        "\n",
        "1. residuals_pga = y_test_pga - y_pred_pga (Difference between actual & predicted PGA values).\n",
        "\n",
        "2. residuals_pgv = y_test_pgv - y_pred_pgv (Difference between actual & predicted PGV values).\n",
        "\n",
        "Plots PGA residuals as a histogram with KDE (Kernel Density Estimate) for smooth distribution."
      ],
      "metadata": {
        "id": "ju5OsAe-Fm_S"
      }
    },
    {
      "cell_type": "code",
      "source": [
        "import seaborn as sns\n",
        "import matplotlib.pyplot as plt\n",
        "\n",
        "residuals_pga = y_test_pga - y_pred_pga\n",
        "residuals_pgv = y_test_pgv - y_pred_pgv\n",
        "\n",
        "# Create a figure and axes using plt.subplots()\n",
        "fig, axes = plt.subplots(2, 2, figsize=(10, 8))  # 2 rows, 2 columns of subplots\n",
        "\n",
        "# Now you can use axes[row_index, col_index] to access individual subplots\n",
        "sns.histplot(residuals_pga, bins=30, kde=True, color=\"blue\", ax=axes[1, 0], alpha=0.7)\n",
        "sns.histplot(residuals_pgv, bins=30, kde=True, color=\"green\", ax=axes[1, 1], alpha=0.7)\n",
        "axes[1, 0].set_xlabel(\"Residual (PGA)\")\n",
        "axes[1, 1].set_xlabel(\"Residual (PGV)\")\n",
        "axes[1, 0].set_title(\"Residual Distribution - PGA\")\n",
        "axes[1, 1].set_title(\"Residual Distribution - PGV\")\n",
        "\n",
        "plt.tight_layout()\n",
        "plt.show()"
      ],
      "metadata": {
        "colab": {
          "base_uri": "https://localhost:8080/",
          "height": 807
        },
        "id": "54nNBOuj2YeC",
        "outputId": "3e9607cf-34c7-45b7-a021-2aaaf2c86751"
      },
      "execution_count": null,
      "outputs": [
        {
          "output_type": "display_data",
          "data": {
            "text/plain": [
              "<Figure size 1000x800 with 4 Axes>"
            ],
            "image/png": "[encoded data removed]"
          },
          "metadata": {}
        }
      ]
    },
    {
      "cell_type": "code",
      "source": [
        "# Example input\n",
        "vertical_input = np.array([[-0.000015]])\n",
        "vertical_scaled = scaler.transform(vertical_input)\n",
        "predicted_pga = model_pga.predict(vertical_scaled)\n",
        "predicted_pgv = model_pgv.predict(vertical_scaled)\n",
        "\n",
        "print(f\"Predicted PGA: {predicted_pga[0][0]}\")\n",
        "print(f\"Predicted PGV: {predicted_pgv[0][0]}\")"
      ],
      "metadata": {
        "id": "I8Yk2gpa_fLl",
        "colab": {
          "base_uri": "https://localhost:8080/"
        },
        "outputId": "f12535e5-4693-46e0-aee1-fa06a5b2e7ad"
      },
      "execution_count": 37,
      "outputs": [
        {
          "output_type": "stream",
          "name": "stdout",
          "text": [
            "\u001b[1m1/1\u001b[0m \u001b[32m━━━━━━━━━━━━━━━━━━━━\u001b[0m\u001b[37m\u001b[0m \u001b[1m0s\u001b[0m 31ms/step\n",
            "\u001b[1m1/1\u001b[0m \u001b[32m━━━━━━━━━━━━━━━━━━━━\u001b[0m\u001b[37m\u001b[0m \u001b[1m0s\u001b[0m 29ms/step\n",
            "Predicted PGA: 0.0003786738670896739\n",
            "Predicted PGV: 0.00015443036681972444\n"
          ]
        },
        {
          "output_type": "stream",
          "name": "stderr",
          "text": [
            "/usr/local/lib/python3.11/dist-packages/sklearn/utils/validation.py:2739: UserWarning: X does not have valid feature names, but StandardScaler was fitted with feature names\n",
            "  warnings.warn(\n"
          ]
        }
      ]
    },
    {
      "cell_type": "code",
      "source": [],
      "metadata": {
        "id": "INUCjH4YA4ir"
      },
      "execution_count": null,
      "outputs": []
    }
  ]
}